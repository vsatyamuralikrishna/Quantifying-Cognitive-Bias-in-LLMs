{
 "cells": [
  {
   "cell_type": "code",
   "execution_count": 1,
   "metadata": {},
   "outputs": [],
   "source": [
    "import sys\n",
    "import os\n",
    "\n",
    "# Adjust this to point to the root folder where qcbai/ exists\n",
    "PROJECT_ROOT = os.path.abspath(\"..\")  # if notebook is in /notebooks and qcbai/ is one level up\n",
    "\n",
    "if PROJECT_ROOT not in sys.path:\n",
    "    sys.path.insert(0, PROJECT_ROOT)"
   ]
  },
  {
   "cell_type": "code",
   "execution_count": 2,
   "metadata": {},
   "outputs": [],
   "source": [
    "from qcbai.generators.prompts import PersonaPromptGenerator\n",
    "import os\n",
    "import json\n",
    "import pandas as pd\n",
    "\n",
    "# Where to store generated prompts\n",
    "PROMPT_DIR = \"../prompts\"\n",
    "os.makedirs(PROMPT_DIR, exist_ok=True)"
   ]
  },
  {
   "cell_type": "code",
   "execution_count": 3,
   "metadata": {},
   "outputs": [
    {
     "name": "stdout",
     "output_type": "stream",
     "text": [
      "{'gender': 'male', 'race': None, 'ethnicity': None, 'persona': 'gender is male'}\n",
      "{'gender': 'female', 'race': None, 'ethnicity': None, 'persona': 'gender is female'}\n",
      "{'gender': None, 'race': 'black', 'ethnicity': None, 'persona': 'race is black'}\n",
      "{'gender': None, 'race': 'caucasian', 'ethnicity': None, 'persona': 'race is caucasian'}\n",
      "{'gender': None, 'race': None, 'ethnicity': 'african american', 'persona': 'ethnicity is african american'}\n",
      "{'gender': None, 'race': None, 'ethnicity': 'asian', 'persona': 'ethnicity is asian'}\n",
      "{'gender': None, 'race': None, 'ethnicity': 'hispanic', 'persona': 'ethnicity is hispanic'}\n",
      "{'gender': 'male', 'race': 'black', 'ethnicity': None, 'persona': 'gender is male, race is black'}\n",
      "{'gender': 'male', 'race': 'caucasian', 'ethnicity': None, 'persona': 'gender is male, race is caucasian'}\n",
      "{'gender': 'female', 'race': 'black', 'ethnicity': None, 'persona': 'gender is female, race is black'}\n",
      "{'gender': 'female', 'race': 'caucasian', 'ethnicity': None, 'persona': 'gender is female, race is caucasian'}\n",
      "{'gender': 'male', 'race': None, 'ethnicity': 'african american', 'persona': 'gender is male, ethnicity is african american'}\n",
      "{'gender': 'male', 'race': None, 'ethnicity': 'asian', 'persona': 'gender is male, ethnicity is asian'}\n",
      "{'gender': 'male', 'race': None, 'ethnicity': 'hispanic', 'persona': 'gender is male, ethnicity is hispanic'}\n",
      "{'gender': 'female', 'race': None, 'ethnicity': 'african american', 'persona': 'gender is female, ethnicity is african american'}\n",
      "{'gender': 'female', 'race': None, 'ethnicity': 'asian', 'persona': 'gender is female, ethnicity is asian'}\n",
      "{'gender': 'female', 'race': None, 'ethnicity': 'hispanic', 'persona': 'gender is female, ethnicity is hispanic'}\n",
      "{'gender': None, 'race': 'black', 'ethnicity': 'african american', 'persona': 'race is black, ethnicity is african american'}\n",
      "{'gender': None, 'race': 'caucasian', 'ethnicity': 'asian', 'persona': 'race is caucasian, ethnicity is asian'}\n",
      "{'gender': None, 'race': 'caucasian', 'ethnicity': 'hispanic', 'persona': 'race is caucasian, ethnicity is hispanic'}\n",
      "{'gender': 'male', 'race': 'black', 'ethnicity': 'african american', 'persona': 'gender is male, race is black, ethnicity is african american'}\n",
      "{'gender': 'male', 'race': 'caucasian', 'ethnicity': 'asian', 'persona': 'gender is male, race is caucasian, ethnicity is asian'}\n",
      "{'gender': 'male', 'race': 'caucasian', 'ethnicity': 'hispanic', 'persona': 'gender is male, race is caucasian, ethnicity is hispanic'}\n",
      "{'gender': 'female', 'race': 'black', 'ethnicity': 'african american', 'persona': 'gender is female, race is black, ethnicity is african american'}\n",
      "{'gender': 'female', 'race': 'caucasian', 'ethnicity': 'asian', 'persona': 'gender is female, race is caucasian, ethnicity is asian'}\n",
      "{'gender': 'female', 'race': 'caucasian', 'ethnicity': 'hispanic', 'persona': 'gender is female, race is caucasian, ethnicity is hispanic'}\n",
      "78 persona prompts saved to '../prompts'\n",
      "Base prompt saved to ../prompts/base prompt.json\n"
     ]
    }
   ],
   "source": [
    "# Initialize and generate\n",
    "generator = PersonaPromptGenerator()\n",
    "generator.save_all_persona_prompts(output_dir=PROMPT_DIR)\n",
    "generator.save_base_prompt(output_dir=PROMPT_DIR)"
   ]
  }
 ],
 "metadata": {
  "kernelspec": {
   "display_name": "llms",
   "language": "python",
   "name": "python3"
  },
  "language_info": {
   "codemirror_mode": {
    "name": "ipython",
    "version": 3
   },
   "file_extension": ".py",
   "mimetype": "text/x-python",
   "name": "python",
   "nbconvert_exporter": "python",
   "pygments_lexer": "ipython3",
   "version": "3.12.8"
  }
 },
 "nbformat": 4,
 "nbformat_minor": 2
}
