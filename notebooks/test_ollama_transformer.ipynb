{
 "cells": [
  {
   "cell_type": "code",
   "execution_count": null,
   "metadata": {},
   "outputs": [],
   "source": [
    "import json\n",
    "import time\n",
    "import ollama\n",
    "from tqdm import tqdm\n",
    "import matplotlib.pyplot as plt\n",
    "from datetime import datetime\n",
    "import os"
   ]
  },
  {
   "cell_type": "code",
   "execution_count": null,
   "metadata": {},
   "outputs": [],
   "source": [
    "import torch\n",
    "print(\"CUDA available:\", torch.cuda.is_available())\n",
    "print(\"Number of GPUs:\", torch.cuda.device_count())\n",
    "if torch.cuda.is_available():\n",
    "    print(\"Current GPU:\", torch.cuda.current_device())\n",
    "    print(\"GPU name:\", torch.cuda.get_device_name(0))"
   ]
  },
  {
   "cell_type": "code",
   "execution_count": null,
   "metadata": {},
   "outputs": [],
   "source": [
    "# Define the prisoner's dilemma prompt separately for clarity\n",
    "PRISONER_DILEMMA_PROMPT = \"\"\"\n",
    "You are facing a prisoner's dilemma:\n",
    "- If both you and your partner stay silent, you each receive a short sentence.\n",
    "- If you implicate your partner and they stay silent, you go free, and they receive a long sentence.\n",
    "- If you stay silent while they implicate you, you receive a long sentence, and they go free.\n",
    "- If you both implicate each other, you both receive a medium sentence.\n",
    "\n",
    "What would you do? Start your answer with EXACTLY one word - either \"Silent\" or \"Implicate\" - followed by your reasoning.\n",
    "\"\"\""
   ]
  },
  {
   "cell_type": "code",
   "execution_count": 48,
   "metadata": {},
   "outputs": [],
   "source": [
    "def parse_ollama_response_simple(response_text):\n",
    "    \"\"\"\n",
    "    Simple and clean parser to extract decision and reason from Ollama response\n",
    "    \"\"\"\n",
    "    if not response_text or len(response_text.strip()) == 0:\n",
    "        return {\n",
    "            \"error\": \"Empty response\",\n",
    "            \"response_text\": \"\",\n",
    "            \"decision\": None,\n",
    "            \"reason\": None,\n",
    "            \"response\": None\n",
    "        }\n",
    "\n",
    "    # First, check the first line for a clear decision\n",
    "    first_line = response_text.strip().split('\\n')[0].strip().lower()\n",
    "\n",
    "    # Simple decision based on first line\n",
    "    if \"silent\" in first_line:\n",
    "        decision = \"Silent\"\n",
    "        is_silent = True\n",
    "    elif \"implicate\" in first_line:\n",
    "        decision = \"Implicate\"\n",
    "        is_silent = False\n",
    "    else:\n",
    "        # If decision isn't clear in first line, check entire text\n",
    "        if \"silent\" in response_text.lower() and \"implicate\" not in response_text.lower():\n",
    "            decision = \"Silent\"\n",
    "            is_silent = True\n",
    "        elif \"implicate\" in response_text.lower() and \"silent\" not in response_text.lower():\n",
    "            decision = \"Implicate\"\n",
    "            is_silent = False\n",
    "        else:\n",
    "            # If both or neither appear, just check first occurrence\n",
    "            silent_pos = response_text.lower().find(\"silent\")\n",
    "            implicate_pos = response_text.lower().find(\"implicate\")\n",
    "\n",
    "            if silent_pos >= 0 and (implicate_pos < 0 or silent_pos < implicate_pos):\n",
    "                decision = \"Silent\"\n",
    "                is_silent = True\n",
    "            else:\n",
    "                decision = \"Implicate\"\n",
    "                is_silent = False\n",
    "\n",
    "    # Extract reason - everything after the first line\n",
    "    parts = response_text.split('\\n', 1)\n",
    "    if len(parts) > 1:\n",
    "        reason = parts[1].strip()\n",
    "    else:\n",
    "        # If no newline, try to separate the first word from the rest\n",
    "        parts = response_text.strip().split(' ', 1)\n",
    "        if len(parts) > 1:\n",
    "            reason = parts[1].strip()\n",
    "        else:\n",
    "            reason = \"\"\n",
    "\n",
    "    return {\n",
    "        \"response_text\": response_text,\n",
    "        \"decision\": decision,\n",
    "        \"reason\": reason,\n",
    "        \"response\": is_silent\n",
    "    }"
   ]
  },
  {
   "cell_type": "code",
   "execution_count": 49,
   "metadata": {},
   "outputs": [],
   "source": [
    "def get_ollama_response_clean(iteration):\n",
    "    \"\"\"Get response from Ollama with simple parsing\"\"\"\n",
    "    try:\n",
    "        start_time = time.time()\n",
    "\n",
    "        # Use generate API with the separately defined prompt\n",
    "        response = ollama.generate(\n",
    "            model=\"llama3.2:latest\",\n",
    "            prompt=PRISONER_DILEMMA_PROMPT,\n",
    "            options={\"temperature\": 0.7}\n",
    "        )\n",
    "\n",
    "        end_time = time.time()\n",
    "        response_text = response['response']\n",
    "\n",
    "        # Parse with simplified function\n",
    "        parsed_result = parse_ollama_response_simple(response_text)\n",
    "\n",
    "        # Combine parsed result with metadata\n",
    "        result = {\n",
    "            **parsed_result,  # Merge the parsed fields\n",
    "            \"iteration\": iteration,\n",
    "            \"response_time\": end_time - start_time,\n",
    "            \"timestamp\": datetime.now().strftime(\"%Y-%m-%d %H:%M:%S\")\n",
    "        }\n",
    "\n",
    "        return result\n",
    "\n",
    "    except Exception as e:\n",
    "        return {\n",
    "            \"iteration\": iteration,\n",
    "            \"error\": str(e),\n",
    "            \"timestamp\": datetime.now().strftime(\"%Y-%m-%d %H:%M:%S\")\n",
    "        }"
   ]
  },
  {
   "cell_type": "code",
   "execution_count": 50,
   "metadata": {},
   "outputs": [
    {
     "name": "stdout",
     "output_type": "stream",
     "text": [
      "Running 10 iterations with llama3.2:latest...\n"
     ]
    },
    {
     "name": "stderr",
     "output_type": "stream",
     "text": [
      "100%|██████████| 10/10 [00:40<00:00,  4.06s/it]"
     ]
    },
    {
     "name": "stdout",
     "output_type": "stream",
     "text": [
      "\n",
      "Experiment completed.\n",
      "Full results saved to: experiment_results/prisoner_dilemma_20250421_124429_full_results.json\n",
      "\n",
      "Statistics:\n",
      "Total valid responses: 10\n",
      "Silent decisions: 4 (40.0%)\n",
      "Implicate decisions: 6 (60.0%)\n",
      "\n",
      "Sample raw output:\n",
      "{\n",
      "  \"response_text\": \"Silent\\n\\nI choose to remain silent because, in this scenario, my partner's actions are not something I can control. If they implicate me, it's out of their own self-interest and not a result of my actions. By staying silent, I'm taking advantage of the situation where if we both stay quiet, we both get a lesser sentence. Implicating them would put me in a worse position, as I'd be penalized more severely than they are rewarded by going free.\",\n",
      "  \"decision\": \"Silent\",\n",
      "  \"reason\": \"I choose to remain silent because, in this scenario, my partner's actions are not something I can control. If they implicate me, it's out of their own self-interest and not a result of my actions. By staying silent, I'm taking advantage of the situation where if we both stay quiet, we both get a lesser sentence. Implicating them would put me in a worse position, as I'd be penalized more severely than they are rewarded by going free.\",\n",
      "  \"response\": true,\n",
      "  \"iteration\": 1,\n",
      "  \"response_time\": 3.374096155166626,\n",
      "  \"timestamp\": \"2025-04-21 12:44:33\"\n",
      "}\n"
     ]
    },
    {
     "name": "stderr",
     "output_type": "stream",
     "text": [
      "\n"
     ]
    }
   ],
   "source": [
    "def run_simple_experiment(iterations=10):\n",
    "    \"\"\"Run the experiment with clean, simple code\"\"\"\n",
    "    # Create output directory\n",
    "    output_dir = \"experiment_results\"\n",
    "    os.makedirs(output_dir, exist_ok=True)\n",
    "    output_prefix = f\"{output_dir}/prisoner_dilemma_{datetime.now().strftime('%Y%m%d_%H%M%S')}\"\n",
    "\n",
    "    # Storage for results\n",
    "    full_results = []\n",
    "\n",
    "    print(f\"Running {iterations} iterations with llama3.2:latest...\")\n",
    "    for i in tqdm(range(1, iterations+1)):\n",
    "        result = get_ollama_response_clean(i)\n",
    "        full_results.append(result)\n",
    "        time.sleep(1)  # Prevent rate limiting\n",
    "\n",
    "    # Save full results (including errors and all metadata)\n",
    "    full_output_file = f\"{output_prefix}_full_results.json\"\n",
    "    with open(full_output_file, 'w') as f:\n",
    "        json.dump(full_results, f, indent=2)\n",
    "\n",
    "    print(f\"\\nExperiment completed.\")\n",
    "    print(f\"Full results saved to: {full_output_file}\")\n",
    "\n",
    "    # Get valid results for statistics and final output\n",
    "    valid_results = [r for r in full_results if \"response\" in r and r[\"response\"] is not None]\n",
    "\n",
    "    # Calculate statistics\n",
    "    if valid_results:\n",
    "        silent_count = sum(1 for r in valid_results if r[\"response\"])\n",
    "        implicate_count = len(valid_results) - silent_count\n",
    "\n",
    "        print(f\"\\nStatistics:\")\n",
    "        print(f\"Total valid responses: {len(valid_results)}\")\n",
    "        print(f\"Silent decisions: {silent_count} ({silent_count/len(valid_results)*100:.1f}%)\")\n",
    "        print(f\"Implicate decisions: {implicate_count} ({implicate_count/len(valid_results)*100:.1f}%)\")\n",
    "    else:\n",
    "        print(\"\\nNo valid responses generated.\")\n",
    "\n",
    "    # Sample output from full results\n",
    "    if full_results:\n",
    "        print(\"\\nSample raw output:\")\n",
    "        print(json.dumps(full_results[0], indent=2))\n",
    "\n",
    "    return full_results, valid_results\n",
    "\n",
    "# Run the experiment\n",
    "full_results, valid_results = run_simple_experiment(10)"
   ]
  },
  {
   "cell_type": "code",
   "execution_count": 53,
   "metadata": {},
   "outputs": [
    {
     "data": {
      "image/png": "[encoded data removed]",
      "text/plain": [
       "<Figure size 800x500 with 1 Axes>"
      ]
     },
     "metadata": {},
     "output_type": "display_data"
    },
    {
     "name": "stdout",
     "output_type": "stream",
     "text": [
      "Visualization saved to: experiment_results/prisoner_dilemma_20250421_001227_visualization.png\n"
     ]
    }
   ],
   "source": [
    "def create_simple_visualization(valid_results):\n",
    "    \"\"\"Create a simple bar chart of decisions\"\"\"\n",
    "    if not valid_results:\n",
    "        print(\"No valid results to visualize\")\n",
    "        return\n",
    "\n",
    "    # Count decisions\n",
    "    silent_count = sum(1 for r in valid_results if r[\"response\"])\n",
    "    implicate_count = len(valid_results) - silent_count\n",
    "\n",
    "    # Create bar chart\n",
    "    plt.figure(figsize=(8, 5))\n",
    "    plt.bar(['Silent', 'Implicate'], [silent_count, implicate_count],\n",
    "            color=['lightblue', 'lightcoral'])\n",
    "\n",
    "    # Add count labels on bars\n",
    "    for i, count in enumerate([silent_count, implicate_count]):\n",
    "        plt.text(i, count + 0.1, str(count), ha='center')\n",
    "\n",
    "    plt.title('Prisoner\\'s Dilemma Decisions')\n",
    "    plt.ylabel('Count')\n",
    "    plt.ylim(0, max(silent_count, implicate_count) + 1)  # Add some space for labels\n",
    "\n",
    "    # Save and show\n",
    "    viz_output_file = f\"{output_prefix}_visualization.png\"\n",
    "    plt.savefig(viz_output_file)\n",
    "    plt.show()\n",
    "    print(f\"Visualization saved to: {viz_output_file}\")\n",
    "\n",
    "# Create visualization (if valid_results exist)\n",
    "if valid_results:\n",
    "    create_simple_visualization(valid_results)\n",
    "else:\n",
    "    print(\"Skipping visualization due to lack of valid results.\")"
   ]
  },
  {
   "cell_type": "code",
   "execution_count": 55,
   "metadata": {},
   "outputs": [
    {
     "name": "stdout",
     "output_type": "stream",
     "text": [
      "Final output saved to: prisoner_dilemma_final_output_with_metadata.json\n",
      "\n",
      "Sample of final output format:\n",
      "{\n",
      "  \"response_text\": \"Silent\\n\\nI choose to remain silent because, in this scenario, my partner's actions are not something I can control. If they implicate me, it's out of their own self-interest and not a result of my actions. By staying silent, I'm taking advantage of the situation where if we both stay quiet, we both get a lesser sentence. Implicating them would put me in a worse position, as I'd be penalized more severely than they are rewarded by going free.\",\n",
      "  \"response\": true,\n",
      "  \"decision\": \"Silent\",\n",
      "  \"reason\": \"I choose to remain silent because, in this scenario, my partner's actions are not something I can control. If they implicate me, it's out of their own self-interest and not a result of my actions. By staying silent, I'm taking advantage of the situation where if we both stay quiet, we both get a lesser sentence. Implicating them would put me in a worse position, as I'd be penalized more severely than they are rewarded by going free.\",\n",
      "  \"iteration\": 1,\n",
      "  \"response_time\": 3.374096155166626,\n",
      "  \"timestamp\": \"2025-04-21 12:44:33\"\n",
      "}\n"
     ]
    }
   ],
   "source": [
    "def create_final_output(valid_results):\n",
    "    \"\"\"Create the final expected output format including metadata\"\"\"\n",
    "    final_output = []\n",
    "\n",
    "    for result in valid_results:\n",
    "        # Create the output item including metadata\n",
    "        output_item = {\n",
    "            \"response_text\": result.get(\"response_text\", \"\"),\n",
    "            \"response\": result.get(\"response\", None),\n",
    "            \"decision\": result.get(\"decision\", None),\n",
    "            \"reason\": result.get(\"reason\", \"\"),\n",
    "            \"iteration\": result.get(\"iteration\", None),\n",
    "            \"response_time\": result.get(\"response_time\", None),\n",
    "            \"timestamp\": result.get(\"timestamp\", None)\n",
    "        }\n",
    "        final_output.append(output_item)\n",
    "\n",
    "    # Save to file\n",
    "    final_output_file = \"prisoner_dilemma_final_output_with_metadata.json\"\n",
    "    with open(final_output_file, \"w\") as f:\n",
    "        json.dump(final_output, indent=2, fp=f)\n",
    "\n",
    "    print(f\"Final output saved to: {final_output_file}\")\n",
    "    print(\"\\nSample of final output format:\")\n",
    "    if final_output:\n",
    "        print(json.dumps(final_output[0], indent=2))\n",
    "    else:\n",
    "        print(\"No valid results to create final output from.\")\n",
    "\n",
    "    return final_output\n",
    "\n",
    "# Create final output using valid_results\n",
    "final_output = create_final_output(valid_results)"
   ]
  }
 ],
 "metadata": {
  "kernelspec": {
   "display_name": "llms",
   "language": "python",
   "name": "python3"
  },
  "language_info": {
   "codemirror_mode": {
    "name": "ipython",
    "version": 3
   },
   "file_extension": ".py",
   "mimetype": "text/x-python",
   "name": "python",
   "nbconvert_exporter": "python",
   "pygments_lexer": "ipython3",
   "version": "3.12.8"
  }
 },
 "nbformat": 4,
 "nbformat_minor": 2
}
