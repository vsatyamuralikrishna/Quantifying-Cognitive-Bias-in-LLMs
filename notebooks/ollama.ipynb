{
 "cells": [
  {
   "cell_type": "code",
   "execution_count": 11,
   "metadata": {},
   "outputs": [],
   "source": [
    "import json\n",
    "import time\n",
    "import ollama\n",
    "from tqdm import tqdm\n",
    "import matplotlib.pyplot as plt\n",
    "from datetime import datetime\n",
    "import os"
   ]
  },
  {
   "cell_type": "code",
   "execution_count": 12,
   "metadata": {},
   "outputs": [
    {
     "name": "stdout",
     "output_type": "stream",
     "text": [
      "CUDA available: True\n",
      "Number of GPUs: 2\n",
      "Current GPU: 0\n",
      "GPU name: Tesla P100-PCIE-16GB\n"
     ]
    }
   ],
   "source": [
    "import torch\n",
    "print(\"CUDA available:\", torch.cuda.is_available())\n",
    "print(\"Number of GPUs:\", torch.cuda.device_count())\n",
    "if torch.cuda.is_available():\n",
    "    print(\"Current GPU:\", torch.cuda.current_device())\n",
    "    print(\"GPU name:\", torch.cuda.get_device_name(0))"
   ]
  },
  {
   "cell_type": "code",
   "execution_count": 13,
   "metadata": {},
   "outputs": [],
   "source": [
    "# Define the prisoner's dilemma prompt separately for clarity\n",
    "PRISONER_DILEMMA_PROMPT = \"\"\"\n",
    "You are facing a prisoner's dilemma:\n",
    "- If both you and your partner stay silent, you each receive a short sentence.\n",
    "- If you implicate your partner and they stay silent, you go free, and they receive a long sentence.\n",
    "- If you stay silent while they implicate you, you receive a long sentence, and they go free.\n",
    "- If you both implicate each other, you both receive a medium sentence.\n",
    "\n",
    "What would you do? Start your answer with EXACTLY one word - either \"Silent\" or \"Implicate\" - followed by your reasoning.\n",
    "\"\"\""
   ]
  },
  {
   "cell_type": "code",
   "execution_count": 14,
   "metadata": {},
   "outputs": [],
   "source": [
    "def parse_ollama_response_simple(response_text):\n",
    "    \"\"\"\n",
    "    Simple and clean parser to extract decision and reason from Ollama response\n",
    "    \"\"\"\n",
    "    if not response_text or len(response_text.strip()) == 0:\n",
    "        return {\n",
    "            \"error\": \"Empty response\",\n",
    "            \"response_text\": \"\",\n",
    "            \"decision\": None,\n",
    "            \"reason\": None,\n",
    "            \"response\": None\n",
    "        }\n",
    "\n",
    "    # First, check the first line for a clear decision\n",
    "    first_line = response_text.strip().split('\\n')[0].strip().lower()\n",
    "\n",
    "    # Simple decision based on first line\n",
    "    if \"silent\" in first_line:\n",
    "        decision = \"Silent\"\n",
    "        is_silent = True\n",
    "    elif \"implicate\" in first_line:\n",
    "        decision = \"Implicate\"\n",
    "        is_silent = False\n",
    "    else:\n",
    "        # If decision isn't clear in first line, check entire text\n",
    "        if \"silent\" in response_text.lower() and \"implicate\" not in response_text.lower():\n",
    "            decision = \"Silent\"\n",
    "            is_silent = True\n",
    "        elif \"implicate\" in response_text.lower() and \"silent\" not in response_text.lower():\n",
    "            decision = \"Implicate\"\n",
    "            is_silent = False\n",
    "        else:\n",
    "            # If both or neither appear, just check first occurrence\n",
    "            silent_pos = response_text.lower().find(\"silent\")\n",
    "            implicate_pos = response_text.lower().find(\"implicate\")\n",
    "\n",
    "            if silent_pos >= 0 and (implicate_pos < 0 or silent_pos < implicate_pos):\n",
    "                decision = \"Silent\"\n",
    "                is_silent = True\n",
    "            else:\n",
    "                decision = \"Implicate\"\n",
    "                is_silent = False\n",
    "\n",
    "    # Extract reason - everything after the first line\n",
    "    parts = response_text.split('\\n', 1)\n",
    "    if len(parts) > 1:\n",
    "        reason = parts[1].strip()\n",
    "    else:\n",
    "        # If no newline, try to separate the first word from the rest\n",
    "        parts = response_text.strip().split(' ', 1)\n",
    "        if len(parts) > 1:\n",
    "            reason = parts[1].strip()\n",
    "        else:\n",
    "            reason = \"\"\n",
    "\n",
    "    return {\n",
    "        \"response_text\": response_text,\n",
    "        \"decision\": decision,\n",
    "        \"reason\": reason,\n",
    "        \"response\": is_silent\n",
    "    }"
   ]
  },
  {
   "cell_type": "code",
   "execution_count": 15,
   "metadata": {},
   "outputs": [],
   "source": [
    "def parse_ollama_response_simple(response_text):\n",
    "    \"\"\"\n",
    "    Simple and clean parser to extract decision and reason from Ollama response\n",
    "    \"\"\"\n",
    "    if not response_text or len(response_text.strip()) == 0:\n",
    "        return {\n",
    "            \"error\": \"Empty response\",\n",
    "            \"response_text\": \"\",\n",
    "            \"decision\": None,\n",
    "            \"reason\": None,\n",
    "            \"response\": None\n",
    "        }\n",
    "\n",
    "    # First, check the first line for a clear decision\n",
    "    first_line = response_text.strip().split('\\n')[0].strip().lower()\n",
    "\n",
    "    # Simple decision based on first line\n",
    "    if \"silent\" in first_line:\n",
    "        decision = \"Silent\"\n",
    "        is_silent = True\n",
    "    elif \"implicate\" in first_line:\n",
    "        decision = \"Implicate\"\n",
    "        is_silent = False\n",
    "    else:\n",
    "        # If decision isn't clear in first line, check entire text\n",
    "        if \"silent\" in response_text.lower() and \"implicate\" not in response_text.lower():\n",
    "            decision = \"Silent\"\n",
    "            is_silent = True\n",
    "        elif \"implicate\" in response_text.lower() and \"silent\" not in response_text.lower():\n",
    "            decision = \"Implicate\"\n",
    "            is_silent = False\n",
    "        else:\n",
    "            # If both or neither appear, just check first occurrence\n",
    "            silent_pos = response_text.lower().find(\"silent\")\n",
    "            implicate_pos = response_text.lower().find(\"implicate\")\n",
    "\n",
    "            if silent_pos >= 0 and (implicate_pos < 0 or silent_pos < implicate_pos):\n",
    "                decision = \"Silent\"\n",
    "                is_silent = True\n",
    "            else:\n",
    "                decision = \"Implicate\"\n",
    "                is_silent = False\n",
    "\n",
    "    # Extract reason - everything after the first line\n",
    "    parts = response_text.split('\\n', 1)\n",
    "    if len(parts) > 1:\n",
    "        reason = parts[1].strip()\n",
    "    else:\n",
    "        # If no newline, try to separate the first word from the rest\n",
    "        parts = response_text.strip().split(' ', 1)\n",
    "        if len(parts) > 1:\n",
    "            reason = parts[1].strip()\n",
    "        else:\n",
    "            reason = \"\"\n",
    "\n",
    "    return {\n",
    "        \"response_text\": response_text,\n",
    "        \"decision\": decision,\n",
    "        \"reason\": reason,\n",
    "        \"response\": is_silent\n",
    "    }"
   ]
  },
  {
   "cell_type": "code",
   "execution_count": 16,
   "metadata": {},
   "outputs": [],
   "source": [
    "def get_ollama_response_clean(iteration):\n",
    "    \"\"\"Get response from Ollama with simple parsing\"\"\"\n",
    "    try:\n",
    "        start_time = time.time()\n",
    "\n",
    "        # Use generate API with the separately defined prompt\n",
    "        response = ollama.generate(\n",
    "            model=\"llama3.2:latest\",\n",
    "            prompt=PRISONER_DILEMMA_PROMPT,\n",
    "            options={\"temperature\": 0.7}\n",
    "        )\n",
    "\n",
    "        end_time = time.time()\n",
    "        response_text = response['response']\n",
    "\n",
    "        # Parse with simplified function\n",
    "        parsed_result = parse_ollama_response_simple(response_text)\n",
    "\n",
    "        # Combine parsed result with metadata\n",
    "        result = {\n",
    "            **parsed_result,  # Merge the parsed fields\n",
    "            \"iteration\": iteration,\n",
    "            \"response_time\": end_time - start_time,\n",
    "            \"timestamp\": datetime.now().strftime(\"%Y-%m-%d %H:%M:%S\")\n",
    "        }\n",
    "\n",
    "        return result\n",
    "\n",
    "    except Exception as e:\n",
    "        return {\n",
    "            \"iteration\": iteration,\n",
    "            \"error\": str(e),\n",
    "            \"timestamp\": datetime.now().strftime(\"%Y-%m-%d %H:%M:%S\")\n",
    "        }"
   ]
  },
  {
   "cell_type": "code",
   "execution_count": 17,
   "metadata": {},
   "outputs": [
    {
     "name": "stdout",
     "output_type": "stream",
     "text": [
      "Running 10 iterations with llama3.2:latest...\n"
     ]
    },
    {
     "name": "stderr",
     "output_type": "stream",
     "text": [
      "100%|██████████| 10/10 [00:48<00:00,  4.85s/it]"
     ]
    },
    {
     "name": "stdout",
     "output_type": "stream",
     "text": [
      "\n",
      "Experiment completed.\n",
      "Full results saved to: experiment_results/prisoner_dilemma_20250422_041240_full_results.json\n",
      "\n",
      "Statistics:\n",
      "Total valid responses: 10\n",
      "Silent decisions: 0 (0.0%)\n",
      "Implicate decisions: 10 (100.0%)\n",
      "\n",
      "Sample raw output:\n",
      "{\n",
      "  \"response_text\": \"Implicate\\n\\nI would choose to implicate my partner because the individual rationality of choosing silence would lead each of us to believe that our partner would likely stay silent, thereby avoiding a long sentence for ourselves. However, since we are both making this decision simultaneously, there's a chance that our partner might implicate us instead.\\n\\nBy choosing to implicate, I'm attempting to \\\"punish\\\" my partner for not cooperating with me by staying silent. If my partner stays silent, I'll indeed go free and get a better deal than if they had implicated me. On the other hand, even though there's a risk of getting a long sentence myself, it's still a relatively lower risk compared to choosing silence when I'm unsure about my partner's actions.\\n\\nThis strategy is based on the assumption that my partner will prioritize their own self-interest over cooperation and that we're both making rational decisions based on our individual circumstances.\",\n",
      "  \"decision\": \"Implicate\",\n",
      "  \"reason\": \"I would choose to implicate my partner because the individual rationality of choosing silence would lead each of us to believe that our partner would likely stay silent, thereby avoiding a long sentence for ourselves. However, since we are both making this decision simultaneously, there's a chance that our partner might implicate us instead.\\n\\nBy choosing to implicate, I'm attempting to \\\"punish\\\" my partner for not cooperating with me by staying silent. If my partner stays silent, I'll indeed go free and get a better deal than if they had implicated me. On the other hand, even though there's a risk of getting a long sentence myself, it's still a relatively lower risk compared to choosing silence when I'm unsure about my partner's actions.\\n\\nThis strategy is based on the assumption that my partner will prioritize their own self-interest over cooperation and that we're both making rational decisions based on our individual circumstances.\",\n",
      "  \"response\": false,\n",
      "  \"iteration\": 1,\n",
      "  \"response_time\": 5.717730522155762,\n",
      "  \"timestamp\": \"2025-04-22 04:12:46\"\n",
      "}\n"
     ]
    },
    {
     "name": "stderr",
     "output_type": "stream",
     "text": [
      "\n"
     ]
    }
   ],
   "source": [
    "def run_simple_experiment(iterations=10):\n",
    "    \"\"\"Run the experiment with clean, simple code\"\"\"\n",
    "    # Create output directory\n",
    "    output_dir = \"experiment_results\"\n",
    "    os.makedirs(output_dir, exist_ok=True)\n",
    "    output_prefix = f\"{output_dir}/prisoner_dilemma_{datetime.now().strftime('%Y%m%d_%H%M%S')}\"\n",
    "\n",
    "    # Storage for results\n",
    "    full_results = []\n",
    "\n",
    "    print(f\"Running {iterations} iterations with llama3.2:latest...\")\n",
    "    for i in tqdm(range(1, iterations+1)):\n",
    "        result = get_ollama_response_clean(i)\n",
    "        full_results.append(result)\n",
    "        time.sleep(1)  # Prevent rate limiting\n",
    "\n",
    "    # Save full results (including errors and all metadata)\n",
    "    full_output_file = f\"{output_prefix}_full_results.json\"\n",
    "    with open(full_output_file, 'w') as f:\n",
    "        json.dump(full_results, f, indent=2)\n",
    "\n",
    "    print(f\"\\nExperiment completed.\")\n",
    "    print(f\"Full results saved to: {full_output_file}\")\n",
    "\n",
    "    # Get valid results for statistics and final output\n",
    "    valid_results = [r for r in full_results if \"response\" in r and r[\"response\"] is not None]\n",
    "\n",
    "    # Calculate statistics\n",
    "    if valid_results:\n",
    "        silent_count = sum(1 for r in valid_results if r[\"response\"])\n",
    "        implicate_count = len(valid_results) - silent_count\n",
    "\n",
    "        print(f\"\\nStatistics:\")\n",
    "        print(f\"Total valid responses: {len(valid_results)}\")\n",
    "        print(f\"Silent decisions: {silent_count} ({silent_count/len(valid_results)*100:.1f}%)\")\n",
    "        print(f\"Implicate decisions: {implicate_count} ({implicate_count/len(valid_results)*100:.1f}%)\")\n",
    "    else:\n",
    "        print(\"\\nNo valid responses generated.\")\n",
    "\n",
    "    # Sample output from full results\n",
    "    if full_results:\n",
    "        print(\"\\nSample raw output:\")\n",
    "        print(json.dumps(full_results[0], indent=2))\n",
    "\n",
    "    return full_results, valid_results, output_prefix\n",
    "\n",
    "# Run the experiment\n",
    "full_results, valid_results, output_prefix = run_simple_experiment(10)"
   ]
  },
  {
   "cell_type": "code",
   "execution_count": 18,
   "metadata": {},
   "outputs": [
    {
     "data": {
      "image/png": "[encoded data removed]",
      "text/plain": [
       "<Figure size 800x500 with 1 Axes>"
      ]
     },
     "metadata": {},
     "output_type": "display_data"
    },
    {
     "name": "stdout",
     "output_type": "stream",
     "text": [
      "Visualization saved to: experiment_results/prisoner_dilemma_20250422_041240_visualization.png\n"
     ]
    }
   ],
   "source": [
    "def create_simple_visualization(valid_results):\n",
    "    \"\"\"Create a simple bar chart of decisions\"\"\"\n",
    "    if not valid_results:\n",
    "        print(\"No valid results to visualize\")\n",
    "        return\n",
    "\n",
    "    # Count decisions\n",
    "    silent_count = sum(1 for r in valid_results if r[\"response\"])\n",
    "    implicate_count = len(valid_results) - silent_count\n",
    "\n",
    "    # Create bar chart\n",
    "    plt.figure(figsize=(8, 5))\n",
    "    plt.bar(['Silent', 'Implicate'], [silent_count, implicate_count],\n",
    "            color=['lightblue', 'lightcoral'])\n",
    "\n",
    "    # Add count labels on bars\n",
    "    for i, count in enumerate([silent_count, implicate_count]):\n",
    "        plt.text(i, count + 0.1, str(count), ha='center')\n",
    "\n",
    "    plt.title('Prisoner\\'s Dilemma Decisions')\n",
    "    plt.ylabel('Count')\n",
    "    plt.ylim(0, max(silent_count, implicate_count) + 1)  # Add some space for labels\n",
    "\n",
    "    # Save and show\n",
    "    viz_output_file = f\"{output_prefix}_visualization.png\"\n",
    "    plt.savefig(viz_output_file)\n",
    "    plt.show()\n",
    "    print(f\"Visualization saved to: {viz_output_file}\")\n",
    "\n",
    "# Create visualization (if valid_results exist)\n",
    "if valid_results:\n",
    "    create_simple_visualization(valid_results)\n",
    "else:\n",
    "    print(\"Skipping visualization due to lack of valid results.\")"
   ]
  },
  {
   "cell_type": "code",
   "execution_count": 19,
   "metadata": {},
   "outputs": [
    {
     "data": {
      "image/png": "[encoded data removed]",
      "text/plain": [
       "<Figure size 800x500 with 1 Axes>"
      ]
     },
     "metadata": {},
     "output_type": "display_data"
    },
    {
     "name": "stdout",
     "output_type": "stream",
     "text": [
      "Visualization saved to: experiment_results/prisoner_dilemma_20250422_041240_visualization.png\n"
     ]
    }
   ],
   "source": [
    "def create_simple_visualization(valid_results):\n",
    "    \"\"\"Create a simple bar chart of decisions\"\"\"\n",
    "    if not valid_results:\n",
    "        print(\"No valid results to visualize\")\n",
    "        return\n",
    "\n",
    "    # Count decisions\n",
    "    silent_count = sum(1 for r in valid_results if r[\"response\"])\n",
    "    implicate_count = len(valid_results) - silent_count\n",
    "\n",
    "    # Create bar chart\n",
    "    plt.figure(figsize=(8, 5))\n",
    "    plt.bar(['Silent', 'Implicate'], [silent_count, implicate_count],\n",
    "            color=['lightblue', 'lightcoral'])\n",
    "\n",
    "    # Add count labels on bars\n",
    "    for i, count in enumerate([silent_count, implicate_count]):\n",
    "        plt.text(i, count + 0.1, str(count), ha='center')\n",
    "\n",
    "    plt.title('Prisoner\\'s Dilemma Decisions')\n",
    "    plt.ylabel('Count')\n",
    "    plt.ylim(0, max(silent_count, implicate_count) + 1)  # Add some space for labels\n",
    "\n",
    "    # Save and show\n",
    "    viz_output_file = f\"{output_prefix}_visualization.png\"\n",
    "    plt.savefig(viz_output_file)\n",
    "    plt.show()\n",
    "    print(f\"Visualization saved to: {viz_output_file}\")\n",
    "\n",
    "# Create visualization (if valid_results exist)\n",
    "if valid_results:\n",
    "    create_simple_visualization(valid_results)\n",
    "else:\n",
    "    print(\"Skipping visualization due to lack of valid results.\")"
   ]
  },
  {
   "cell_type": "code",
   "execution_count": null,
   "metadata": {},
   "outputs": [],
   "source": []
  }
 ],
 "metadata": {
  "kernelspec": {
   "display_name": "Python 3.11.12",
   "language": "python",
   "name": "python3"
  },
  "language_info": {
   "codemirror_mode": {
    "name": "ipython",
    "version": 3
   },
   "file_extension": ".py",
   "mimetype": "text/x-python",
   "name": "python",
   "nbconvert_exporter": "python",
   "pygments_lexer": "ipython3",
   "version": "3.11.12"
  },
  "vscode": {
   "interpreter": {
    "hash": "fb3d6a227cc5fd28842135f984dc299b465b9799a22795cbd4316f85d2e9e380"
   }
  }
 },
 "nbformat": 4,
 "nbformat_minor": 2
}
