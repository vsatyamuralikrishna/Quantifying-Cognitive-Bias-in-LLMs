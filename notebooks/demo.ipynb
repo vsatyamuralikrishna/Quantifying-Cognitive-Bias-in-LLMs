{
 "cells": [
  {
   "cell_type": "code",
   "execution_count": null,
   "metadata": {},
   "outputs": [],
   "source": [
    "from collections import defaultdict\n",
    "\n",
    "def count_subarrays_with_mean_k(arr, k):\n",
    "    count = 0\n",
    "    prefix_sum = 0\n",
    "    transformed_freq = defaultdict(int)\n",
    "    transformed_freq[0] = 1  # For the case when subarray starts from index 0\n",
    "\n",
    "    for i in range(len(arr)):\n",
    "        prefix_sum += arr[i]\n",
    "        transformed = prefix_sum - k * (i + 1)\n",
    "        \n",
    "        count += transformed_freq[transformed]\n",
    "        transformed_freq[transformed] += 1\n",
    "\n",
    "    return count\n",
    "\n",
    "# Example usage\n",
    "arr = [1, 2, 3, 4]\n",
    "k = 2\n",
    "print(count_subarrays_with_mean_k(arr, k))  # Output: 2"
   ]
  }
 ],
 "metadata": {
  "kernelspec": {
   "display_name": "llms",
   "language": "python",
   "name": "python3"
  },
  "language_info": {
   "codemirror_mode": {
    "name": "ipython",
    "version": 3
   },
   "file_extension": ".py",
   "mimetype": "text/x-python",
   "name": "python",
   "nbconvert_exporter": "python",
   "pygments_lexer": "ipython3",
   "version": "3.12.8"
  }
 },
 "nbformat": 4,
 "nbformat_minor": 2
}
