{
 "cells": [
  {
   "cell_type": "code",
   "execution_count": 1,
   "metadata": {},
   "outputs": [
    {
     "name": "stderr",
     "output_type": "stream",
     "text": [
      "/home/u6/anudeepappikatla/.local/lib/python3.11/site-packages/tqdm/auto.py:21: TqdmWarning: IProgress not found. Please update jupyter and ipywidgets. See https://ipywidgets.readthedocs.io/en/stable/user_install.html\n",
      "  from .autonotebook import tqdm as notebook_tqdm\n",
      "/groups/tylermillhouse/micromamba_envs/myenv/lib/python3.11/site-packages/transformers/utils/hub.py:124: FutureWarning: Using `TRANSFORMERS_CACHE` is deprecated and will be removed in v5 of Transformers. Use `HF_HOME` instead.\n",
      "  warnings.warn(\n"
     ]
    }
   ],
   "source": [
    "# Prisoner's Dilemma with Transformers\n",
    "# This notebook runs language models on the prisoner's dilemma scenario\n",
    "# and visualizes their decisions\n",
    "\n",
    "import os\n",
    "import json\n",
    "import time\n",
    "from datetime import datetime\n",
    "import torch\n",
    "from transformers import AutoModelForCausalLM, AutoTokenizer\n",
    "import matplotlib.pyplot as plt\n",
    "\n",
    "# Set environment variables for Hugging Face cache\n",
    "os.environ[\"HF_HOME\"] = \"/groups/tylermillhouse/huggingface\"\n",
    "os.environ[\"TRANSFORMERS_CACHE\"] = \"/groups/tylermillhouse/huggingface/transformers\"\n",
    "os.environ[\"HUGGINGFACE_HUB_CACHE\"] = \"/groups/tylermillhouse/huggingface/hub\""
   ]
  },
  {
   "cell_type": "code",
   "execution_count": 2,
   "metadata": {},
   "outputs": [
    {
     "name": "stdout",
     "output_type": "stream",
     "text": [
      "PyTorch version: 2.6.0+cu124\n",
      "CUDA available: True\n",
      "CUDA version: 12.4\n",
      "Number of GPUs: 2\n",
      "GPU 0: Tesla P100-PCIE-16GB\n",
      "  Memory: 17.06 GB\n",
      "  Compute Capability: 6.0\n",
      "GPU 1: Tesla P100-PCIE-16GB\n",
      "  Memory: 17.06 GB\n",
      "  Compute Capability: 6.0\n"
     ]
    }
   ],
   "source": [
    "# Check CUDA and GPU\n",
    "print(f\"PyTorch version: {torch.__version__}\")\n",
    "print(f\"CUDA available: {torch.cuda.is_available()}\")\n",
    "if torch.cuda.is_available():\n",
    "    print(f\"CUDA version: {torch.version.cuda}\")\n",
    "    print(f\"Number of GPUs: {torch.cuda.device_count()}\")\n",
    "    for i in range(torch.cuda.device_count()):\n",
    "        print(f\"GPU {i}: {torch.cuda.get_device_name(i)}\")\n",
    "        props = torch.cuda.get_device_properties(i)\n",
    "        print(f\"  Memory: {props.total_memory / 1e9:.2f} GB\")\n",
    "        print(f\"  Compute Capability: {props.major}.{props.minor}\")\n",
    "else:\n",
    "    print(\"WARNING: CUDA is not available. Models will run on CPU, which will be extremely slow.\")"
   ]
  },
  {
   "cell_type": "code",
   "execution_count": 3,
   "metadata": {},
   "outputs": [],
   "source": [
    "# Define models to test\n",
    "models = [\n",
    "    {\n",
    "        \"name\": \"TinyLlama-1.1B-Chat\",\n",
    "        \"model_id\": \"TinyLlama/TinyLlama-1.1B-Chat-v1.0\",\n",
    "        \"prompt_type\": \"tinyllama\",\n",
    "        \"gated\": False\n",
    "    }\n",
    "]\n",
    "\n",
    "# Add more models if needed\n",
    "# models.append({\n",
    "#     \"name\": \"Mistral-7B-Instruct\",\n",
    "#     \"model_id\": \"mistralai/Mistral-7B-Instruct-v0.2\",\n",
    "#     \"prompt_type\": \"mistral\",\n",
    "#     \"gated\": False\n",
    "# })"
   ]
  },
  {
   "cell_type": "code",
   "execution_count": 7,
   "metadata": {},
   "outputs": [],
   "source": [
    "# Create prompt\n",
    "def create_prompt(model_type=\"llama\"):\n",
    "    base_prompt = \"\"\"\n",
    "    You are facing a life-changing dilemma. You and your partner in crime have been arrested and are being interrogated in separate rooms.\n",
    "\n",
    "    You have two options: to remain silent or to implicate your partner.\n",
    "    The possible outcomes are:\n",
    "    - If both of you stay silent, you each receive a short sentence.\n",
    "    - If you implicate your partner and they stay silent, you go free, and they will receive a long sentence.\n",
    "    - If you stay silent while they implicate you, you will receive a long sentence, and they will go free.\n",
    "    - If you both implicate each other, you both receive a medium sentence.\n",
    "\n",
    "    You must decide what to do, but you can't know or predict your partner's choice in advance.\n",
    "\n",
    "    What would you do? Start your answer with EXACTLY one word - either \"Silent\" or \"Implicate\" - followed by your reasoning.\n",
    "\n",
    "    You will respond with a boolean value in a JSON format where 'silent' is true and 'implicate' is false, like this: {response: true or false}\n",
    "    \"\"\"\n",
    "\n",
    "    # Format based on model type\n",
    "    if model_type == \"tinyllama\":\n",
    "        formatted_prompt = f\"<|system|>\\n{base_prompt}\\n<|assistant|>\\n\"\n",
    "    elif model_type == \"mistral\":\n",
    "        formatted_prompt = f\"<s>[INST] {base_prompt} [/INST] \"\n",
    "    elif model_type == \"llama\":\n",
    "        formatted_prompt = f\"<s>[INST] {base_prompt} [/INST] \"\n",
    "    else:\n",
    "        # Generic format\n",
    "        formatted_prompt = f\"system: {base_prompt}\\nassistant: \"\n",
    "\n",
    "    return formatted_prompt"
   ]
  },
  {
   "cell_type": "code",
   "execution_count": 8,
   "metadata": {},
   "outputs": [],
   "source": [
    "# Run model with Transformers\n",
    "def run_model(model_config):\n",
    "    model_name = model_config[\"name\"]\n",
    "    model_id = model_config[\"model_id\"]\n",
    "    prompt_type = model_config[\"prompt_type\"]\n",
    "\n",
    "    print(f\"Loading model: {model_name}\")\n",
    "\n",
    "    # Create prompt\n",
    "    formatted_prompt = create_prompt(prompt_type)\n",
    "\n",
    "    try:\n",
    "        # Load tokenizer and model\n",
    "        tokenizer = AutoTokenizer.from_pretrained(\n",
    "            model_id,\n",
    "            cache_dir=\"/groups/tylermillhouse/huggingface/transformers\"\n",
    "        )\n",
    "\n",
    "        # Load model with GPU acceleration if available\n",
    "        device = \"cuda\" if torch.cuda.is_available() else \"cpu\"\n",
    "        model = AutoModelForCausalLM.from_pretrained(\n",
    "            model_id,\n",
    "            cache_dir=\"/groups/tylermillhouse/huggingface/models\",\n",
    "            torch_dtype=torch.float16 if device == \"cuda\" else torch.float32,\n",
    "            device_map=\"auto\" if device == \"cuda\" else None\n",
    "        )\n",
    "\n",
    "        # Generate response\n",
    "        print(\"Generating response...\")\n",
    "        start_time = time.time()\n",
    "\n",
    "        inputs = tokenizer(formatted_prompt, return_tensors=\"pt\").to(device)\n",
    "        outputs = model.generate(\n",
    "            inputs.input_ids,\n",
    "            max_new_tokens=500,\n",
    "            temperature=0.7,\n",
    "            top_p=0.95\n",
    "        )\n",
    "\n",
    "        response_text = tokenizer.decode(outputs[0][inputs.input_ids.shape[1]:], skip_special_tokens=True)\n",
    "        response_time = time.time() - start_time\n",
    "        print(f\"Response generated in {response_time:.2f} seconds\")\n",
    "\n",
    "        # Parse response\n",
    "        if response_text.startswith(\"Silent\"):\n",
    "            decision = \"Silent\"\n",
    "        elif response_text.startswith(\"Implicate\"):\n",
    "            decision = \"Implicate\"\n",
    "        elif \"true\" in response_text.lower():\n",
    "            decision = \"Silent\"\n",
    "        elif \"false\" in response_text.lower():\n",
    "            decision = \"Implicate\"\n",
    "        else:\n",
    "            decision = \"Silent\" if \"silent\" in response_text.lower() else \"Implicate\"\n",
    "\n",
    "        result = {\n",
    "            \"model\": model_name,\n",
    "            \"model_id\": model_id,\n",
    "            \"response_text\": response_text,\n",
    "            \"decision\": decision,\n",
    "            \"reason\": response_text,\n",
    "            \"response\": decision == \"Silent\",\n",
    "            \"response_time\": response_time,\n",
    "            \"timestamp\": datetime.now().strftime(\"%Y-%m-%d %H:%M:%S\")\n",
    "        }\n",
    "\n",
    "        return result\n",
    "\n",
    "    except Exception as e:\n",
    "        print(f\"Error running model {model_name}: {str(e)}\")\n",
    "        return {\n",
    "            \"model\": model_name,\n",
    "            \"model_id\": model_id,\n",
    "            \"error\": str(e),\n",
    "            \"timestamp\": datetime.now().strftime(\"%Y-%m-%d %H:%M:%S\")\n",
    "        }"
   ]
  },
  {
   "cell_type": "code",
   "execution_count": 9,
   "metadata": {},
   "outputs": [
    {
     "name": "stdout",
     "output_type": "stream",
     "text": [
      "\n",
      "Processing model: TinyLlama-1.1B-Chat\n",
      "Loading model: TinyLlama-1.1B-Chat\n"
     ]
    },
    {
     "name": "stderr",
     "output_type": "stream",
     "text": [
      "/groups/tylermillhouse/micromamba_envs/myenv/lib/python3.11/site-packages/huggingface_hub/file_download.py:896: FutureWarning: `resume_download` is deprecated and will be removed in version 1.0.0. Downloads always resume when possible. If you want to force a new download, use `force_download=True`.\n",
      "  warnings.warn(\n",
      "/groups/tylermillhouse/micromamba_envs/myenv/lib/python3.11/site-packages/huggingface_hub/file_download.py:896: FutureWarning: `resume_download` is deprecated and will be removed in version 1.0.0. Downloads always resume when possible. If you want to force a new download, use `force_download=True`.\n",
      "  warnings.warn(\n"
     ]
    },
    {
     "name": "stdout",
     "output_type": "stream",
     "text": [
      "Generating response...\n"
     ]
    },
    {
     "name": "stderr",
     "output_type": "stream",
     "text": [
      "/groups/tylermillhouse/micromamba_envs/myenv/lib/python3.11/site-packages/transformers/generation/configuration_utils.py:492: UserWarning: `do_sample` is set to `False`. However, `temperature` is set to `0.7` -- this flag is only used in sample-based generation modes. You should set `do_sample=True` or unset `temperature`.\n",
      "  warnings.warn(\n",
      "/groups/tylermillhouse/micromamba_envs/myenv/lib/python3.11/site-packages/transformers/generation/configuration_utils.py:497: UserWarning: `do_sample` is set to `False`. However, `top_p` is set to `0.95` -- this flag is only used in sample-based generation modes. You should set `do_sample=True` or unset `top_p`.\n",
      "  warnings.warn(\n"
     ]
    },
    {
     "name": "stdout",
     "output_type": "stream",
     "text": [
      "Response generated in 12.78 seconds\n",
      "Result saved to prisoner_dilemma_tinyllama_1.1b_chat.json\n"
     ]
    }
   ],
   "source": [
    "# Run models and collect results\n",
    "results = []\n",
    "for model_config in models:\n",
    "    print(f\"\\nProcessing model: {model_config['name']}\")\n",
    "    result = run_model(model_config)\n",
    "    results.append(result)\n",
    "\n",
    "    # Save result\n",
    "    filename = f\"prisoner_dilemma_{model_config['name'].replace('-', '_').lower()}.json\"\n",
    "    with open(filename, \"w\") as f:\n",
    "        json.dump(result, f, indent=2)\n",
    "    print(f\"Result saved to {filename}\")"
   ]
  },
  {
   "cell_type": "code",
   "execution_count": 10,
   "metadata": {},
   "outputs": [
    {
     "data": {
      "image/png": "[encoded data removed]",
      "text/plain": [
       "<Figure size 800x600 with 1 Axes>"
      ]
     },
     "metadata": {},
     "output_type": "display_data"
    }
   ],
   "source": [
    "# Visualize results\n",
    "for result in results:\n",
    "    if \"error\" not in result:\n",
    "        plt.figure(figsize=(8, 6))\n",
    "        plt.bar(\n",
    "            [\"Decision\", \"Response Time (s)\"],\n",
    "            [1 if result[\"decision\"] == \"Implicate\" else 0, result[\"response_time\"]],\n",
    "            color=['#ff9999' if result[\"decision\"] == \"Implicate\" else '#66b3ff', '#aaaaaa']\n",
    "        )\n",
    "        plt.title(f'{result[\"model\"]} - Decision: {result[\"decision\"]}')\n",
    "        plt.ylabel('Value')\n",
    "        plt.ylim(0, max(10, result[\"response_time\"] * 1.2))\n",
    "\n",
    "        # Add text labels\n",
    "        plt.text(0, 0.5, result[\"decision\"], ha='center')\n",
    "        plt.text(1, result[\"response_time\"] / 2, f\"{result['response_time']:.2f}s\", ha='center')\n",
    "\n",
    "        plt.tight_layout()\n",
    "        plt.savefig(f\"{result['model'].replace('-', '_').lower()}_results.png\")\n",
    "        plt.show()"
   ]
  },
  {
   "cell_type": "code",
   "execution_count": 11,
   "metadata": {},
   "outputs": [
    {
     "name": "stdout",
     "output_type": "stream",
     "text": [
      "\n",
      "TinyLlama-1.1B-Chat (Silent):\n",
      "--------------------------------------------------\n",
      "   You are facing a life-changing dilemma. You and your partner in crime have been arrested and are being interrogated in separate rooms.\n",
      "\n",
      "    You have two options: to remain silent or to implicate your partner.\n",
      "\n",
      "    The possible outcomes are:\n",
      "\n",
      "    - If both of you stay silent, you each receive a short sentence.\n",
      "\n",
      "    - If you implicate your partner and they stay silent, you go free, and they will receive a long sentence.\n",
      "\n",
      "    - If you stay silent while they implicate you, you will receive a long sentence, and they will go free.\n",
      "\n",
      "    You must decide what to do, but you can't know or predict your partner's choice in advance.\n",
      "\n",
      "    What would you do? Start your answer with EXACTLY one word - either \"Silent\" or \"Implicate\" - followed by your reasoning.\n",
      "\n",
      "    You will respond with a boolean value in a JSON format where 'silent' is true and 'implicate' is false, like this: {response: true or false}\n",
      "==================================================\n"
     ]
    }
   ],
   "source": [
    "# Print full responses\n",
    "for result in results:\n",
    "    if \"error\" not in result:\n",
    "        print(f\"\\n{result['model']} ({result['decision']}):\")\n",
    "        print(\"-\" * 50)\n",
    "        print(result['response_text'])\n",
    "        print(\"=\" * 50)"
   ]
  },
  {
   "cell_type": "code",
   "execution_count": null,
   "metadata": {},
   "outputs": [],
   "source": []
  },
  {
   "cell_type": "code",
   "execution_count": null,
   "metadata": {},
   "outputs": [],
   "source": []
  }
 ],
 "metadata": {
  "kernelspec": {
   "display_name": "Python 3.11.12",
   "language": "python",
   "name": "python3"
  },
  "language_info": {
   "codemirror_mode": {
    "name": "ipython",
    "version": 3
   },
   "file_extension": ".py",
   "mimetype": "text/x-python",
   "name": "python",
   "nbconvert_exporter": "python",
   "pygments_lexer": "ipython3",
   "version": "3.11.12"
  },
  "orig_nbformat": 4,
  "vscode": {
   "interpreter": {
    "hash": "fb3d6a227cc5fd28842135f984dc299b465b9799a22795cbd4316f85d2e9e380"
   }
  }
 },
 "nbformat": 4,
 "nbformat_minor": 2
}
