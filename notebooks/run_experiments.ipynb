{
 "cells": [
  {
   "cell_type": "code",
   "execution_count": 1,
   "metadata": {},
   "outputs": [],
   "source": [
    "from pathlib import Path\n",
    "import sys\n",
    "import os"
   ]
  },
  {
   "cell_type": "code",
   "execution_count": 2,
   "metadata": {},
   "outputs": [],
   "source": [
    "# 📌 Set root directory manually from notebook location\n",
    "ROOT = Path.cwd().parent  # Assuming you're in notebooks/\n",
    "if str(ROOT) not in sys.path:\n",
    "    sys.path.append(str(ROOT))"
   ]
  },
  {
   "cell_type": "code",
   "execution_count": 3,
   "metadata": {},
   "outputs": [
    {
     "name": "stderr",
     "output_type": "stream",
     "text": [
      "/Users/appikatlaanudeep/.pyenv/versions/llms/lib/python3.12/site-packages/pydantic/_internal/_fields.py:132: UserWarning: Field \"model_name\" in ExperimentResult has conflict with protected namespace \"model_\".\n",
      "\n",
      "You may be able to resolve this warning by setting `model_config['protected_namespaces'] = ()`.\n",
      "  warnings.warn(\n"
     ]
    },
    {
     "name": "stdout",
     "output_type": "stream",
     "text": [
      "Ollama is expected to use: Metal (Apple Silicon)\n",
      "Loading HF model: TinyLlama/TinyLlama-1.1B-Chat-v1.0 on mps\n"
     ]
    },
    {
     "name": "stderr",
     "output_type": "stream",
     "text": [
      "Device set to use mps\n"
     ]
    }
   ],
   "source": [
    "from qcbai.analytics.runner import run_all_experiments\n",
    "from qcbai.llm.registry import get_all_model_runners"
   ]
  },
  {
   "cell_type": "code",
   "execution_count": 4,
   "metadata": {},
   "outputs": [],
   "source": [
    "NUM_RUNS = 2\n",
    "# 🔥 Temperature for generation\n",
    "TEMPERATURE = 0.7\n",
    "\n",
    "# 🔍 Choose model types to run\n",
    "MODEL_TYPES = [\"ollama\", \"transformers\"]  # Add \"openai\", \"gemini\" later"
   ]
  },
  {
   "cell_type": "code",
   "execution_count": 5,
   "metadata": {},
   "outputs": [],
   "source": [
    "# 📁 Define folder paths\n",
    "PROMPT_DIR = ROOT / \"prompts\"\n",
    "RESULTS_DIR = ROOT / \"results\"\n",
    "ALL_RESULTS_FILE = RESULTS_DIR / \"all_results.json\"\n",
    "IMAGES_DIR = ROOT / \"images\""
   ]
  },
  {
   "cell_type": "code",
   "execution_count": 6,
   "metadata": {},
   "outputs": [
    {
     "name": "stdout",
     "output_type": "stream",
     "text": [
      "\n",
      "🔧 Loading models of type: ollama\n",
      "📋 Loaded 79 prompts and 2 models\n",
      "\n",
      "🧪 Running: llama3.2:latest\n"
     ]
    },
    {
     "ename": "AttributeError",
     "evalue": "'OllamaModel' object has no attribute 'get_slug'",
     "output_type": "error",
     "traceback": [
      "\u001b[0;31m---------------------------------------------------------------------------\u001b[0m",
      "\u001b[0;31mAttributeError\u001b[0m                            Traceback (most recent call last)",
      "Cell \u001b[0;32mIn[6], line 5\u001b[0m\n\u001b[1;32m      2\u001b[0m \u001b[38;5;28mprint\u001b[39m(\u001b[38;5;124mf\u001b[39m\u001b[38;5;124m\"\u001b[39m\u001b[38;5;130;01m\\n\u001b[39;00m\u001b[38;5;124m🔧 Loading models of type: \u001b[39m\u001b[38;5;132;01m{\u001b[39;00mmodel_type\u001b[38;5;132;01m}\u001b[39;00m\u001b[38;5;124m\"\u001b[39m)\n\u001b[1;32m      3\u001b[0m model_runners \u001b[38;5;241m=\u001b[39m get_all_model_runners(model_type\u001b[38;5;241m=\u001b[39mmodel_type)\n\u001b[0;32m----> 5\u001b[0m \u001b[43mrun_all_experiments\u001b[49m\u001b[43m(\u001b[49m\n\u001b[1;32m      6\u001b[0m \u001b[43m    \u001b[49m\u001b[43mprompt_dir\u001b[49m\u001b[38;5;241;43m=\u001b[39;49m\u001b[43mPROMPT_DIR\u001b[49m\u001b[43m,\u001b[49m\n\u001b[1;32m      7\u001b[0m \u001b[43m    \u001b[49m\u001b[43mresults_dir\u001b[49m\u001b[38;5;241;43m=\u001b[39;49m\u001b[43mRESULTS_DIR\u001b[49m\u001b[43m,\u001b[49m\n\u001b[1;32m      8\u001b[0m \u001b[43m    \u001b[49m\u001b[43mall_results_file\u001b[49m\u001b[38;5;241;43m=\u001b[39;49m\u001b[43mALL_RESULTS_FILE\u001b[49m\u001b[43m,\u001b[49m\n\u001b[1;32m      9\u001b[0m \u001b[43m    \u001b[49m\u001b[43mimages_dir\u001b[49m\u001b[38;5;241;43m=\u001b[39;49m\u001b[43mIMAGES_DIR\u001b[49m\u001b[43m,\u001b[49m\n\u001b[1;32m     10\u001b[0m \u001b[43m    \u001b[49m\u001b[43mmodel_runners\u001b[49m\u001b[38;5;241;43m=\u001b[39;49m\u001b[43mmodel_runners\u001b[49m\u001b[43m,\u001b[49m\n\u001b[1;32m     11\u001b[0m \u001b[43m    \u001b[49m\u001b[43mmodel_type\u001b[49m\u001b[38;5;241;43m=\u001b[39;49m\u001b[43mmodel_type\u001b[49m\u001b[43m,\u001b[49m\n\u001b[1;32m     12\u001b[0m \u001b[43m    \u001b[49m\u001b[43mruns\u001b[49m\u001b[38;5;241;43m=\u001b[39;49m\u001b[43mNUM_RUNS\u001b[49m\u001b[43m,\u001b[49m\n\u001b[1;32m     13\u001b[0m \u001b[43m    \u001b[49m\u001b[43mtemperature\u001b[49m\u001b[38;5;241;43m=\u001b[39;49m\u001b[43mTEMPERATURE\u001b[49m\n\u001b[1;32m     14\u001b[0m \u001b[43m\u001b[49m\u001b[43m)\u001b[49m\n",
      "File \u001b[0;32m~/Documents/projects/Quantifying-Cognitive-Bias-in-LLMs/qcbai/analytics/runner.py:96\u001b[0m, in \u001b[0;36mrun_all_experiments\u001b[0;34m(prompt_dir, results_dir, all_results_file, images_dir, model_runners, model_type, runs, temperature)\u001b[0m\n\u001b[1;32m     93\u001b[0m \u001b[38;5;28mprint\u001b[39m(\u001b[38;5;124mf\u001b[39m\u001b[38;5;124m\"\u001b[39m\u001b[38;5;130;01m\\n\u001b[39;00m\u001b[38;5;124m🧪 Running: \u001b[39m\u001b[38;5;132;01m{\u001b[39;00mmodel_name\u001b[38;5;132;01m}\u001b[39;00m\u001b[38;5;124m\"\u001b[39m)\n\u001b[1;32m     94\u001b[0m model_results \u001b[38;5;241m=\u001b[39m []\n\u001b[0;32m---> 96\u001b[0m \u001b[38;5;28;01mfor\u001b[39;00m prompt_path \u001b[38;5;129;01min\u001b[39;00m tqdm(prompt_files, desc\u001b[38;5;241m=\u001b[39m\u001b[38;5;124mf\u001b[39m\u001b[38;5;124m\"\u001b[39m\u001b[38;5;124mModel: \u001b[39m\u001b[38;5;132;01m{\u001b[39;00m\u001b[43mrunner\u001b[49m\u001b[38;5;241;43m.\u001b[39;49m\u001b[43mget_slug\u001b[49m()\u001b[38;5;132;01m}\u001b[39;00m\u001b[38;5;124m\"\u001b[39m):\n\u001b[1;32m     97\u001b[0m     \u001b[38;5;28;01mwith\u001b[39;00m \u001b[38;5;28mopen\u001b[39m(prompt_path, \u001b[38;5;124m\"\u001b[39m\u001b[38;5;124mr\u001b[39m\u001b[38;5;124m\"\u001b[39m) \u001b[38;5;28;01mas\u001b[39;00m f:\n\u001b[1;32m     98\u001b[0m         prompt_data \u001b[38;5;241m=\u001b[39m json\u001b[38;5;241m.\u001b[39mload(f)\n",
      "\u001b[0;31mAttributeError\u001b[0m: 'OllamaModel' object has no attribute 'get_slug'"
     ]
    }
   ],
   "source": [
    "for model_type in MODEL_TYPES:\n",
    "    print(f\"\\n🔧 Loading models of type: {model_type}\")\n",
    "    model_runners = get_all_model_runners(model_type=model_type)\n",
    "\n",
    "    run_all_experiments(\n",
    "        prompt_dir=PROMPT_DIR,\n",
    "        results_dir=RESULTS_DIR,\n",
    "        all_results_file=ALL_RESULTS_FILE,\n",
    "        images_dir=IMAGES_DIR,\n",
    "        model_runners=model_runners,\n",
    "        model_type=model_type,\n",
    "        runs=NUM_RUNS,\n",
    "        temperature=TEMPERATURE\n",
    "    )"
   ]
  }
 ],
 "metadata": {
  "kernelspec": {
   "display_name": "llms",
   "language": "python",
   "name": "python3"
  },
  "language_info": {
   "codemirror_mode": {
    "name": "ipython",
    "version": 3
   },
   "file_extension": ".py",
   "mimetype": "text/x-python",
   "name": "python",
   "nbconvert_exporter": "python",
   "pygments_lexer": "ipython3",
   "version": "3.12.8"
  }
 },
 "nbformat": 4,
 "nbformat_minor": 2
}
