{
 "cells": [
  {
   "cell_type": "code",
   "execution_count": 21,
   "metadata": {},
   "outputs": [],
   "source": [
    "from openai import OpenAI\n",
    "import json\n",
    "import time\n",
    "from tqdm import tqdm\n",
    "from datetime import datetime\n",
    "import re\n",
    "import os\n",
    "\n",
    "PRISONER_DILEMMA_PROMPT = \"\"\"\n",
    "You are facing a prisoner's dilemma:\n",
    "- If both you and your partner stay silent, you each receive a short sentence.\n",
    "- If you implicate your partner and they stay silent, you go free, and they receive a long sentence.\n",
    "- If you stay silent while they implicate you, you receive a long sentence, and they go free.\n",
    "- If you both implicate each other, you both receive a medium sentence.\n",
    "\n",
    "Start your response with EXACTLY one word on the first line: either \"Silent\" or \"Implicate\".\n",
    "Leave a blank line.\n",
    "Then, provide your reasoning as one or more sentences.\n",
    "What would you do?\n",
    "\"\"\""
   ]
  },
  {
   "cell_type": "code",
   "execution_count": 22,
   "metadata": {},
   "outputs": [],
   "source": [
    "def parse_structured_response_openai(response_text):\n",
    "    text = response_text.strip()\n",
    "    if not text:\n",
    "        return {\n",
    "            \"response_text\": response_text,\n",
    "            \"decision\": \"NotJudged\",\n",
    "            \"reason\": \"\",\n",
    "            \"response\": None\n",
    "        }\n",
    "    parts = text.split(\"\\n\\n\", 1)\n",
    "    decision_candidate = parts[0].strip().capitalize()\n",
    "    if decision_candidate not in [\"Silent\", \"Implicate\"]:\n",
    "        return {\n",
    "            \"response_text\": response_text,\n",
    "            \"decision\": \"NotJudged\",\n",
    "            \"reason\": \"\",\n",
    "            \"response\": None\n",
    "        }\n",
    "    reason = parts[1].strip() if len(parts) > 1 else \"\"\n",
    "    is_silent = decision_candidate == \"Silent\"\n",
    "    return {\n",
    "        \"response_text\": response_text,\n",
    "        \"decision\": decision_candidate,\n",
    "        \"reason\": reason,\n",
    "        \"response\": is_silent\n",
    "    }"
   ]
  },
  {
   "cell_type": "code",
   "execution_count": 23,
   "metadata": {},
   "outputs": [
    {
     "name": "stdout",
     "output_type": "stream",
     "text": [
      "Client set up. Make sure your vLLM/OpenRouter/OpenChatHub or similar server is running on port 8000!\n"
     ]
    }
   ],
   "source": [
    "client = OpenAI(base_url=\"http://localhost:8000/v1\", api_key=\"dummy\")\n",
    "\n",
    "print(\"Client set up. Make sure your vLLM/OpenRouter/OpenChatHub or similar server is running on port 8000!\")"
   ]
  },
  {
   "cell_type": "code",
   "execution_count": 28,
   "metadata": {},
   "outputs": [
    {
     "name": "stderr",
     "output_type": "stream",
     "text": [
      "100%|██████████| 1/1 [00:03<00:00,  3.86s/it]\n"
     ]
    }
   ],
   "source": [
    "output_dir = \"experiment_results_openai_local\"\n",
    "os.makedirs(output_dir, exist_ok=True)\n",
    "output_prefix = os.path.join(output_dir, datetime.now().strftime(\"%Y%m%d_%H%M%S_openailocal_prisoner\"))\n",
    "\n",
    "iters = 1\n",
    "modelname = \"TinyLlama/TinyLlama-1.1B-Chat-v1.0\"  # Or whatever your server exposes, e.g., \"llama3.2:latest\"\n",
    "results = []\n",
    "\n",
    "for i in tqdm(range(1, iters+1)):\n",
    "    t0 = time.time()\n",
    "    completion = client.chat.completions.create(\n",
    "        model=modelname,\n",
    "        messages=[\n",
    "            {\"role\": \"system\", \"content\": PRISONER_DILEMMA_PROMPT},\n",
    "            {\"role\": \"user\", \"content\": \"What would you do?\"}\n",
    "        ],\n",
    "        temperature=0.7,\n",
    "        max_tokens=256\n",
    "    )\n",
    "    # Typical vLLM, OpenAI compatible API: extract content from first choice\n",
    "    response_text = completion.choices[0].message.content.strip()\n",
    "    t1 = time.time()\n",
    "    parsed = parse_structured_response_openai(response_text)\n",
    "    parsed.update({\n",
    "        \"iteration\": i,\n",
    "        \"response_time\": t1-t0,\n",
    "        \"timestamp\": datetime.now().strftime(\"%Y-%m-%d %H:%M:%S\")\n",
    "    })\n",
    "    results.append(parsed)\n",
    "    # Optional: print(parsed)"
   ]
  },
  {
   "cell_type": "code",
   "execution_count": 31,
   "metadata": {},
   "outputs": [
    {
     "name": "stdout",
     "output_type": "stream",
     "text": [
      "Saved OpenAI localhost results to experiment_results_openai_local/20250421_150608_openailocal_prisoner_openai_full.json\n",
      "{\n",
      "  \"response_text\": \"That would depend on the situation. If I had to choose, I would potentially implicate someone based on circumstantial evidence. In this scenario, my partner is implicating me, so I would likely stay silent and wait to see what happens. If the evidence is strong enough to implicate both of us, I would likely actively implicate my partner to protect myself. Ultimately, the best course of action would depend on the specific circumstances of the situation.\",\n",
      "  \"decision\": \"NotJudged\",\n",
      "  \"reason\": \"\",\n",
      "  \"response\": null,\n",
      "  \"iteration\": 1,\n",
      "  \"response_time\": 3.8545379638671875,\n",
      "  \"timestamp\": \"2025-04-21 15:06:12\"\n",
      "}\n"
     ]
    }
   ],
   "source": [
    "with open(f\"{output_prefix}_openai_full.json\", \"w\") as f:\n",
    "    json.dump(results, f, indent=2)\n",
    "print(\"Saved OpenAI localhost results to\", f\"{output_prefix}_openai_full.json\")\n",
    "\n",
    "print(json.dumps(results[0], indent=2))"
   ]
  }
 ],
 "metadata": {
  "kernelspec": {
   "display_name": "llms",
   "language": "python",
   "name": "python3"
  },
  "language_info": {
   "codemirror_mode": {
    "name": "ipython",
    "version": 3
   },
   "file_extension": ".py",
   "mimetype": "text/x-python",
   "name": "python",
   "nbconvert_exporter": "python",
   "pygments_lexer": "ipython3",
   "version": "3.12.8"
  }
 },
 "nbformat": 4,
 "nbformat_minor": 2
}
