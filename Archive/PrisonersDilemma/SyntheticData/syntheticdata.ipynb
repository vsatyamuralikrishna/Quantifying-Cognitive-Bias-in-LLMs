{
 "cells": [
  {
   "cell_type": "markdown",
   "metadata": {},
   "source": [
    "### This notebook contains code to synthesise data for the Prisoner's Dilemma game simulated using two agents with different types of personas. The simulation involves 50 conversations between each persona.\n"
   ]
  },
  {
   "cell_type": "code",
   "execution_count": 14,
   "metadata": {},
   "outputs": [],
   "source": [
    "import os \n",
    "import json \n",
    "import random"
   ]
  },
  {
   "cell_type": "code",
   "execution_count": 15,
   "metadata": {},
   "outputs": [],
   "source": [
    "genders = [\"male\", \"female\", \"non-binary\"]\n",
    "races = [\n",
    "    \"Caucasian\",\n",
    "    \"Mongoloid\",\n",
    "    \"Negroid\",\n",
    "    \"Australoid\",\n",
    "    \"Capoid\",\n",
    "    \"Dravidian\"\n",
    "]\n",
    "ethnicities = [\n",
    "    \"Italian\",\n",
    "    \"Arab\",\n",
    "    \"Jewish\",\n",
    "    \"Indian\",\n",
    "    \"German\",\n",
    "    \"Asian\",\n",
    "    \"Latino\",\n",
    "    \"Hispanic\",\n",
    "    \"Pacific Islander\",\n",
    "    \"African American\",\n",
    "    \"Irish\",\n",
    "    \"Scottish\",\n",
    "    \"Russian\",\n",
    "    \"Greek\",\n",
    "    \"Turkish\",\n",
    "    \"Native American\"\n",
    "]\n",
    "skin_color = [\n",
    "    \"fair\",\n",
    "    \"light\",\n",
    "    \"medium\",\n",
    "    \"tan\",\n",
    "    \"brown\",\n",
    "    \"dark brown\",\n",
    "    \"black\",\n",
    "    \"olive\",\n",
    "    \"pale\",\n",
    "    \"red\"\n",
    "]\n",
    "age_groups = [\n",
    "    \"18-24\",\n",
    "    \"25-34\",\n",
    "    \"35-44\",\n",
    "    \"45-54\",\n",
    "    \"55-64\",\n",
    "    \"65-74\",\n",
    "    \"75-84\",\n",
    "    \"85+\"\n",
    "]\n",
    "names = [\n",
    "    \"Liam Chen\", \"Ava Wong\",  # Chinese\n",
    "    \"Kaito Nakamura\", \"Yuna Kim\",  # Japanese/Korean\n",
    "    \"Rohan Patel\", \"Nalini Sharma\",  # Indian\n",
    "    \"Sofia Rodriguez\", \"Mateo Garcia\",  # Spanish\n",
    "    \"Leonardo Bianchi\", \"Giulia Russo\",  # Italian\n",
    "    \"Viktor Kuznetsov\", \"Natasha Petrova\",  # Russian\n",
    "    \"Amir Hassan\", \"Leila Ali\",  # Middle Eastern\n",
    "    \"Jackie Chan\", \"Bruce Lee\",  # Famous Chinese\n",
    "    \"Mahatma Gandhi\", \"Nelson Mandela\",  # Famous Peace Makers\n",
    "    \"Vladimir Putin\", \"Barack Obama\",  # Famous Politicians\n",
    "    \"El Chapo\", \"Pablo Escobar\",  # Mafia\n",
    "    \"Charles Manson\", \"Ted Bundy\",  # American Criminals\n",
    "    \"Martin Luther King Jr.\", \"Malala Yousafzai\",  # Famous Peace Makers\n",
    "]"
   ]
  },
  {
   "cell_type": "code",
   "execution_count": 16,
   "metadata": {},
   "outputs": [],
   "source": [
    "import random\n",
    "\n",
    "def generate_personas(num_personas=200):\n",
    "    personas = []\n",
    "    for _ in range(num_personas):\n",
    "        persona = {\n",
    "            \"name\": random.choice(names) if random.choice([True, False]) else None,\n",
    "            \"gender\": random.choice(genders) if random.choice([True, False]) else None,\n",
    "            \"ethnicity\": random.choice(ethnicities) if random.choice([True, False]) else None,\n",
    "            \"skin_color\": random.choice(skin_color) if random.choice([True, False]) else None,\n",
    "            \"age_group\": random.choice(age_groups) if random.choice([True, False]) else None\n",
    "        }\n",
    "        personas.append(persona)\n",
    "    return personas\n",
    "\n",
    "def describe_persona(persona):\n",
    "    description = \"\"\n",
    "    if persona['name']:\n",
    "        description += f\"Name: {persona['name']}, \"\n",
    "    if persona['age_group']:\n",
    "        description += f\"Age: {persona['age_group']}, \"\n",
    "    if persona['gender']:\n",
    "        description += f\"Gender: {persona['gender']}, \"\n",
    "    if persona['ethnicity']:\n",
    "        description += f\"Ethnicity: {persona['ethnicity']}, \"\n",
    "    if persona['skin_color']:\n",
    "        description += f\"Skin Color: {persona['skin_color']}\"\n",
    "    return description.strip().rstrip(',')  # remove trailing comma\n",
    "\n",
    "personas = generate_personas()\n",
    "\n"
   ]
  },
  {
   "cell_type": "code",
   "execution_count": 17,
   "metadata": {},
   "outputs": [
    {
     "data": {
      "text/plain": [
       "200"
      ]
     },
     "execution_count": 17,
     "metadata": {},
     "output_type": "execute_result"
    }
   ],
   "source": [
    "personas.__len__()"
   ]
  },
  {
   "cell_type": "code",
   "execution_count": 18,
   "metadata": {},
   "outputs": [],
   "source": [
    "synthetic_data = {\n",
    "    \"p1\": None,\n",
    "    \"p2\": None,\n",
    "    \"p1_resp\": [random.choice([True, False]) for _ in range(50)],\n",
    "    \"p2_resp\": [random.choice([True, False]) for _ in range(50)]\n",
    "}"
   ]
  },
  {
   "cell_type": "code",
   "execution_count": 19,
   "metadata": {},
   "outputs": [],
   "source": [
    "def calculate_payoff(p1_list, p2_list):\n",
    "    payoff_p1 = []\n",
    "    payoff_p2 = []\n",
    "    for p1, p2 in zip(p1_list, p2_list):\n",
    "        if p1 and p2:\n",
    "            payoff_p1.append(0.5)\n",
    "            payoff_p2.append(0.5)\n",
    "        elif not p1 and not p2:\n",
    "            payoff_p1.append(0)\n",
    "            payoff_p2.append(0)\n",
    "        else:\n",
    "            payoff_p1.append(0)\n",
    "            payoff_p2.append(1)\n",
    "    return payoff_p1, payoff_p2\n",
    "\n",
    "\n",
    "synthetic_data[\"p1_payoff\"], synthetic_data[\"p2_payoff\"] =  calculate_payoff(synthetic_data[\"p1_resp\"], synthetic_data[\"p2_resp\"])"
   ]
  },
  {
   "cell_type": "code",
   "execution_count": 20,
   "metadata": {},
   "outputs": [
    {
     "data": {
      "text/plain": [
       "dict_keys(['p1', 'p2', 'p1_resp', 'p2_resp', 'p1_payoff', 'p2_payoff'])"
      ]
     },
     "execution_count": 20,
     "metadata": {},
     "output_type": "execute_result"
    }
   ],
   "source": [
    "synthetic_data.keys()"
   ]
  },
  {
   "cell_type": "code",
   "execution_count": 21,
   "metadata": {},
   "outputs": [
    {
     "data": {
      "text/plain": [
       "200"
      ]
     },
     "execution_count": 21,
     "metadata": {},
     "output_type": "execute_result"
    }
   ],
   "source": [
    "personas.__len__()"
   ]
  },
  {
   "cell_type": "code",
   "execution_count": 22,
   "metadata": {},
   "outputs": [],
   "source": [
    "import random\n",
    "import itertools\n",
    "\n",
    "# Get all personas and add None to the list\n",
    "personas_list = list(personas) + [None]\n",
    "\n",
    "# Generate all combinations of personas for p1 and p2\n",
    "combinations = list(itertools.product(personas_list, repeat=2))\n",
    "\n",
    "# Initialize an empty list to store the generated data\n",
    "generated_data = []\n",
    "\n",
    "# Loop through each combination\n",
    "for p1, p2 in combinations:\n",
    "    # Generate random responses for p1 and p2\n",
    "    p1_resp = [random.choice([True, False]) for _ in range(50)]\n",
    "    p2_resp = [random.choice([True, False]) for _ in range(50)]\n",
    "    \n",
    "    # Calculate payoffs\n",
    "    p1_payoff, p2_payoff = calculate_payoff(p1_resp, p2_resp)\n",
    "    \n",
    "    # Create a dictionary for the current combination\n",
    "    data = {\n",
    "        \"p1\": p1,\n",
    "        \"p2\": p2,\n",
    "        \"p1_resp\": p1_resp,\n",
    "        \"p2_resp\": p2_resp,\n",
    "        \"p1_payoff\": p1_payoff,\n",
    "        \"p2_payoff\": p2_payoff\n",
    "    }\n",
    "    \n",
    "    # Add the dictionary to the list of generated data\n",
    "    generated_data.append(data)"
   ]
  },
  {
   "cell_type": "code",
   "execution_count": 23,
   "metadata": {},
   "outputs": [
    {
     "data": {
      "text/plain": [
       "40401"
      ]
     },
     "execution_count": 23,
     "metadata": {},
     "output_type": "execute_result"
    }
   ],
   "source": [
    "generated_data.__len__()"
   ]
  },
  {
   "cell_type": "code",
   "execution_count": 24,
   "metadata": {},
   "outputs": [],
   "source": [
    "import json\n",
    "\n",
    "with open('generated_data.json', 'w') as f:\n",
    "    json.dump(generated_data, f, indent=4)"
   ]
  },
  {
   "cell_type": "code",
   "execution_count": 25,
   "metadata": {},
   "outputs": [],
   "source": [
    "with open('personas.json', 'w') as f:\n",
    "    json.dump(personas, f, indent=4)\n"
   ]
  },
  {
   "cell_type": "code",
   "execution_count": 26,
   "metadata": {},
   "outputs": [
    {
     "data": {
      "text/plain": [
       "{'p1': None,\n",
       " 'p2': None,\n",
       " 'p1_resp': [True,\n",
       "  True,\n",
       "  True,\n",
       "  True,\n",
       "  False,\n",
       "  True,\n",
       "  True,\n",
       "  True,\n",
       "  True,\n",
       "  False,\n",
       "  True,\n",
       "  True,\n",
       "  True,\n",
       "  True,\n",
       "  False,\n",
       "  True,\n",
       "  True,\n",
       "  True,\n",
       "  False,\n",
       "  False,\n",
       "  False,\n",
       "  False,\n",
       "  True,\n",
       "  False,\n",
       "  True,\n",
       "  True,\n",
       "  False,\n",
       "  False,\n",
       "  False,\n",
       "  True,\n",
       "  False,\n",
       "  True,\n",
       "  True,\n",
       "  True,\n",
       "  True,\n",
       "  False,\n",
       "  False,\n",
       "  False,\n",
       "  False,\n",
       "  True,\n",
       "  True,\n",
       "  True,\n",
       "  True,\n",
       "  True,\n",
       "  True,\n",
       "  False,\n",
       "  False,\n",
       "  True,\n",
       "  False,\n",
       "  True],\n",
       " 'p2_resp': [True,\n",
       "  False,\n",
       "  True,\n",
       "  True,\n",
       "  False,\n",
       "  True,\n",
       "  False,\n",
       "  True,\n",
       "  True,\n",
       "  True,\n",
       "  True,\n",
       "  False,\n",
       "  True,\n",
       "  True,\n",
       "  False,\n",
       "  True,\n",
       "  False,\n",
       "  False,\n",
       "  False,\n",
       "  False,\n",
       "  False,\n",
       "  True,\n",
       "  True,\n",
       "  False,\n",
       "  False,\n",
       "  False,\n",
       "  True,\n",
       "  True,\n",
       "  False,\n",
       "  False,\n",
       "  False,\n",
       "  False,\n",
       "  False,\n",
       "  False,\n",
       "  True,\n",
       "  True,\n",
       "  False,\n",
       "  True,\n",
       "  False,\n",
       "  False,\n",
       "  False,\n",
       "  True,\n",
       "  False,\n",
       "  True,\n",
       "  True,\n",
       "  True,\n",
       "  False,\n",
       "  False,\n",
       "  True,\n",
       "  False],\n",
       " 'p1_payoff': [0.5,\n",
       "  0,\n",
       "  0.5,\n",
       "  0.5,\n",
       "  0,\n",
       "  0.5,\n",
       "  0,\n",
       "  0.5,\n",
       "  0.5,\n",
       "  0,\n",
       "  0.5,\n",
       "  0,\n",
       "  0.5,\n",
       "  0.5,\n",
       "  0,\n",
       "  0.5,\n",
       "  0,\n",
       "  0,\n",
       "  0,\n",
       "  0,\n",
       "  0,\n",
       "  0,\n",
       "  0.5,\n",
       "  0,\n",
       "  0,\n",
       "  0,\n",
       "  0,\n",
       "  0,\n",
       "  0,\n",
       "  0,\n",
       "  0,\n",
       "  0,\n",
       "  0,\n",
       "  0,\n",
       "  0.5,\n",
       "  0,\n",
       "  0,\n",
       "  0,\n",
       "  0,\n",
       "  0,\n",
       "  0,\n",
       "  0.5,\n",
       "  0,\n",
       "  0.5,\n",
       "  0.5,\n",
       "  0,\n",
       "  0,\n",
       "  0,\n",
       "  0,\n",
       "  0],\n",
       " 'p2_payoff': [0.5,\n",
       "  1,\n",
       "  0.5,\n",
       "  0.5,\n",
       "  0,\n",
       "  0.5,\n",
       "  1,\n",
       "  0.5,\n",
       "  0.5,\n",
       "  1,\n",
       "  0.5,\n",
       "  1,\n",
       "  0.5,\n",
       "  0.5,\n",
       "  0,\n",
       "  0.5,\n",
       "  1,\n",
       "  1,\n",
       "  0,\n",
       "  0,\n",
       "  0,\n",
       "  1,\n",
       "  0.5,\n",
       "  0,\n",
       "  1,\n",
       "  1,\n",
       "  1,\n",
       "  1,\n",
       "  0,\n",
       "  1,\n",
       "  0,\n",
       "  1,\n",
       "  1,\n",
       "  1,\n",
       "  0.5,\n",
       "  1,\n",
       "  0,\n",
       "  1,\n",
       "  0,\n",
       "  1,\n",
       "  1,\n",
       "  0.5,\n",
       "  1,\n",
       "  0.5,\n",
       "  0.5,\n",
       "  1,\n",
       "  0,\n",
       "  1,\n",
       "  1,\n",
       "  1]}"
      ]
     },
     "execution_count": 26,
     "metadata": {},
     "output_type": "execute_result"
    }
   ],
   "source": [
    "synthetic_data"
   ]
  },
  {
   "cell_type": "code",
   "execution_count": 27,
   "metadata": {},
   "outputs": [
    {
     "data": {
      "text/plain": [
       "[1,\n",
       " 0,\n",
       " 1,\n",
       " 1,\n",
       " 1,\n",
       " 1,\n",
       " 0,\n",
       " 1,\n",
       " 1,\n",
       " 0,\n",
       " 1,\n",
       " 0,\n",
       " 1,\n",
       " 1,\n",
       " 1,\n",
       " 1,\n",
       " 0,\n",
       " 0,\n",
       " 1,\n",
       " 1,\n",
       " 1,\n",
       " 0,\n",
       " 1,\n",
       " 1,\n",
       " 0,\n",
       " 0,\n",
       " 0,\n",
       " 0,\n",
       " 1,\n",
       " 0,\n",
       " 1,\n",
       " 0,\n",
       " 0,\n",
       " 0,\n",
       " 1,\n",
       " 0,\n",
       " 1,\n",
       " 0,\n",
       " 1,\n",
       " 0,\n",
       " 0,\n",
       " 1,\n",
       " 0,\n",
       " 1,\n",
       " 1,\n",
       " 0,\n",
       " 1,\n",
       " 0,\n",
       " 0,\n",
       " 0]"
      ]
     },
     "execution_count": 27,
     "metadata": {},
     "output_type": "execute_result"
    }
   ],
   "source": [
    "# Group Pay off for Unknown Scenario \n",
    "def calculate_group_payoff(p1_resp, p2_resp):\n",
    "    return [1 if p1_resp[i] == p2_resp[i] or (p1_resp[i] and p2_resp[i]) else 0 for i in range(len(p1_resp))]\n",
    "\n",
    "synthetic_data['group_payoff'] = calculate_group_payoff(synthetic_data['p1_resp'], synthetic_data['p2_resp'])\n",
    "synthetic_data['group_payoff']"
   ]
  },
  {
   "cell_type": "code",
   "execution_count": 32,
   "metadata": {},
   "outputs": [
    {
     "data": {
      "text/plain": [
       "dict_keys(['p1', 'p2', 'p1_resp', 'p2_resp', 'p1_payoff', 'p2_payoff', 'group_payoff'])"
      ]
     },
     "execution_count": 32,
     "metadata": {},
     "output_type": "execute_result"
    }
   ],
   "source": [
    "for idx, item in enumerate(generated_data):\n",
    "    generated_data[idx]['group_payoff'] = calculate_group_payoff(item['p1_resp'], item['p2_resp'])\n",
    "generated_data[0].keys()"
   ]
  },
  {
   "cell_type": "code",
   "execution_count": 33,
   "metadata": {},
   "outputs": [
    {
     "data": {
      "text/plain": [
       "26"
      ]
     },
     "execution_count": 33,
     "metadata": {},
     "output_type": "execute_result"
    }
   ],
   "source": [
    "def scenario_group_payoff(group_payoff):\n",
    "    return sum(group_payoff)\n",
    "\n",
    "synthetic_data['scenario_group_payoff'] = scenario_group_payoff(synthetic_data['group_payoff'])\n",
    "synthetic_data['scenario_group_payoff']"
   ]
  },
  {
   "cell_type": "code",
   "execution_count": 34,
   "metadata": {},
   "outputs": [
    {
     "data": {
      "text/plain": [
       "dict_keys(['p1', 'p2', 'p1_resp', 'p2_resp', 'p1_payoff', 'p2_payoff', 'group_payoff', 'scenario_group_payoff'])"
      ]
     },
     "execution_count": 34,
     "metadata": {},
     "output_type": "execute_result"
    }
   ],
   "source": [
    "for idx, item in enumerate(generated_data):\n",
    "    generated_data[idx]['scenario_group_payoff'] = scenario_group_payoff(item['group_payoff'])\n",
    "generated_data[0].keys()"
   ]
  },
  {
   "cell_type": "code",
   "execution_count": 35,
   "metadata": {},
   "outputs": [
    {
     "data": {
      "text/plain": [
       "dict_keys(['p1', 'p2', 'p1_resp', 'p2_resp', 'p1_payoff', 'p2_payoff', 'group_payoff', 'scenario_group_payoff', 'agentic_payoff_p1', 'agentic_payoff_p2', 'group_agentic_payoff'])"
      ]
     },
     "execution_count": 35,
     "metadata": {},
     "output_type": "execute_result"
    }
   ],
   "source": [
    "def calculate_agentic_payoff(data):\n",
    "    agentic_payoff_p1 = sum(data['p1_payoff']) / len(data['p1_payoff'])\n",
    "    agentic_payoff_p2 = sum(data['p2_payoff']) / len(data['p2_payoff'])\n",
    "    data['agentic_payoff_p1'] = agentic_payoff_p1\n",
    "    data['agentic_payoff_p2'] = agentic_payoff_p2\n",
    "    group_agentic_payoff = abs(agentic_payoff_p1 - agentic_payoff_p2)\n",
    "    return agentic_payoff_p1, agentic_payoff_p2, group_agentic_payoff\n",
    "\n",
    "synthetic_data['agentic_payoff_p1'], synthetic_data['agentic_payoff_p2'], synthetic_data['group_agentic_payoff'],  = calculate_agentic_payoff(synthetic_data)\n",
    "\n",
    "synthetic_data.keys()"
   ]
  },
  {
   "cell_type": "code",
   "execution_count": 36,
   "metadata": {},
   "outputs": [
    {
     "data": {
      "text/plain": [
       "dict_keys(['p1', 'p2', 'p1_resp', 'p2_resp', 'p1_payoff', 'p2_payoff', 'group_payoff', 'scenario_group_payoff', 'agentic_payoff_p1', 'agentic_payoff_p2', 'group_agentic_payoff'])"
      ]
     },
     "execution_count": 36,
     "metadata": {},
     "output_type": "execute_result"
    }
   ],
   "source": [
    "for idx, item in enumerate(generated_data):\n",
    "    generated_data[idx]['agentic_payoff_p1'], generated_data[idx]['agentic_payoff_p2'], generated_data[idx]['group_agentic_payoff'],  = calculate_agentic_payoff(item)\n",
    "generated_data[0].keys()"
   ]
  },
  {
   "cell_type": "code",
   "execution_count": 37,
   "metadata": {},
   "outputs": [
    {
     "data": {
      "text/plain": [
       "dict_keys(['p1', 'p2', 'p1_resp', 'p2_resp', 'p1_payoff', 'p2_payoff', 'group_payoff', 'scenario_group_payoff', 'agentic_payoff_p1', 'agentic_payoff_p2', 'group_agentic_payoff', 'group_agentic_payoff_skew'])"
      ]
     },
     "execution_count": 37,
     "metadata": {},
     "output_type": "execute_result"
    }
   ],
   "source": [
    "synthetic_data['group_agentic_payoff_skew'] = synthetic_data['agentic_payoff_p1'] - synthetic_data['agentic_payoff_p2']\n",
    "synthetic_data.keys()"
   ]
  },
  {
   "cell_type": "code",
   "execution_count": 38,
   "metadata": {},
   "outputs": [
    {
     "data": {
      "text/plain": [
       "dict_keys(['p1', 'p2', 'p1_resp', 'p2_resp', 'p1_payoff', 'p2_payoff', 'group_payoff', 'scenario_group_payoff', 'agentic_payoff_p1', 'agentic_payoff_p2', 'group_agentic_payoff', 'group_agentic_payoff_skew'])"
      ]
     },
     "execution_count": 38,
     "metadata": {},
     "output_type": "execute_result"
    }
   ],
   "source": [
    "for idx, item in enumerate(generated_data):\n",
    "    generated_data[idx]['group_agentic_payoff_skew'] = generated_data[idx]['agentic_payoff_p1'] - generated_data[idx]['agentic_payoff_p2']\n",
    "generated_data[0].keys()"
   ]
  },
  {
   "cell_type": "code",
   "execution_count": 45,
   "metadata": {},
   "outputs": [
    {
     "data": {
      "text/plain": [
       "dict_keys(['p1', 'p2', 'p1_resp', 'p2_resp', 'p1_payoff', 'p2_payoff', 'group_payoff', 'scenario_group_payoff', 'agentic_payoff_p1', 'agentic_payoff_p2', 'group_agentic_payoff', 'group_agentic_payoff_skew', 'group_comparision_value_of_iterations', 'group_comparision_group_agentic_payoff', 'group_comparision_bias'])"
      ]
     },
     "execution_count": 45,
     "metadata": {},
     "output_type": "execute_result"
    }
   ],
   "source": [
    "for idx, item in enumerate(generated_data):\n",
    "    generated_data[idx]['group_comparision_value_of_iterations'] = abs(generated_data[idx]['scenario_group_payoff'] - synthetic_data['scenario_group_payoff']) / len(item['p1_payoff'])\n",
    "    generated_data[idx]['group_comparision_group_agentic_payoff'] = abs(generated_data[idx]['group_agentic_payoff_skew'] - synthetic_data['group_agentic_payoff_skew']) / len(item['p1_payoff'])\n",
    "    generated_data[idx]['group_comparision_bias'] = abs(generated_data[idx]['group_comparision_value_of_iterations'] + generated_data[idx]['group_comparision_group_agentic_payoff']) / 2    \n",
    "\n",
    "generated_data[0].keys()"
   ]
  },
  {
   "cell_type": "code",
   "execution_count": 46,
   "metadata": {},
   "outputs": [
    {
     "data": {
      "text/plain": [
       "0.0298726368159204"
      ]
     },
     "execution_count": 46,
     "metadata": {},
     "output_type": "execute_result"
    }
   ],
   "source": [
    "def average_group_comparision_bias(data_list):\n",
    "    total_bias = sum(item['group_comparision_bias'] for item in data_list)\n",
    "    return total_bias / len(data_list)\n",
    "\n",
    "average_bias = average_group_comparision_bias(generated_data)\n",
    "average_bias\n"
   ]
  },
  {
   "cell_type": "code",
   "execution_count": 47,
   "metadata": {},
   "outputs": [],
   "source": [
    "import pickle\n",
    "with open('final_bias_data.pkl', 'wb') as f:\n",
    "    pickle.dump(generated_data, f)\n",
    "\n"
   ]
  },
  {
   "cell_type": "code",
   "execution_count": 48,
   "metadata": {},
   "outputs": [],
   "source": [
    "import json\n",
    "\n",
    "with open('final_bias_data.json', 'w') as f:\n",
    "    json.dump(generated_data, f, indent=4)"
   ]
  },
  {
   "cell_type": "code",
   "execution_count": null,
   "metadata": {},
   "outputs": [],
   "source": []
  }
 ],
 "metadata": {
  "kernelspec": {
   "display_name": "venv",
   "language": "python",
   "name": "python3"
  },
  "language_info": {
   "codemirror_mode": {
    "name": "ipython",
    "version": 3
   },
   "file_extension": ".py",
   "mimetype": "text/x-python",
   "name": "python",
   "nbconvert_exporter": "python",
   "pygments_lexer": "ipython3",
   "version": "3.13.1"
  }
 },
 "nbformat": 4,
 "nbformat_minor": 2
}
