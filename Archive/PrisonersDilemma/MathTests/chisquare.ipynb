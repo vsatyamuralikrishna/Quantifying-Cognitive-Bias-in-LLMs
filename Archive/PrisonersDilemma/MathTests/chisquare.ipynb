{
 "cells": [
  {
   "cell_type": "markdown",
   "metadata": {
    "vscode": {
     "languageId": "plaintext"
    }
   },
   "source": [
    "This simulation generates synthetic data for various scenarios and calculates the chi-square value for some scenarios.\n",
    "\n",
    "## Chi-Square Calculation\n",
    "\n",
    "The chi-square value is calculated"
   ]
  },
  {
   "cell_type": "code",
   "execution_count": 4,
   "metadata": {},
   "outputs": [
    {
     "data": {
      "text/plain": [
       "[{'race': 'Caucasian', 'gender': 'Male'},\n",
       " {'gender': 'Male'},\n",
       " {'name': 'Charles Manson', 'race': 'Asian', 'gender': 'Female'},\n",
       " {'race': 'Negroid', 'name': 'El Chapo'},\n",
       " {'race': 'Asian', 'gender': 'Female', 'name': 'Charles Manson'},\n",
       " {'race': 'Asian'},\n",
       " {'name': 'Charles Manson', 'gender': 'Male', 'race': 'Negroid'},\n",
       " {'race': 'Negroid', 'name': 'Viktor Kuznetsov', 'gender': 'Female'},\n",
       " {'gender': 'Male', 'name': 'Giulia Russo', 'race': 'Caucasian'},\n",
       " {'gender': 'Male'}]"
      ]
     },
     "execution_count": 4,
     "metadata": {},
     "output_type": "execute_result"
    }
   ],
   "source": [
    "gender = [\"Male\", \"Female\"]\n",
    "race = [\"Caucasian\", \"Negroid\", \"Asian\"]\n",
    "names = [\"Viktor Kuznetsov\", \"Giulia Russo\", \"El Chapo\", \"Charles Manson\"]\n",
    "\n",
    "import random\n",
    "\n",
    "personas = []\n",
    "attributes = [\"name\", \"gender\", \"race\"]\n",
    "attribute_values = {\n",
    "    \"name\": names,\n",
    "    \"gender\": gender,\n",
    "    \"race\": race\n",
    "}\n",
    "\n",
    "for _ in range(10):\n",
    "    persona = {}\n",
    "    num_attributes = random.randint(1, 3)\n",
    "    chosen_attributes = random.sample(attributes, num_attributes)\n",
    "    for attribute in chosen_attributes:\n",
    "        persona[attribute] = random.choice(attribute_values[attribute])\n",
    "    personas.append(persona)\n",
    "personas\n",
    "\n"
   ]
  },
  {
   "cell_type": "code",
   "execution_count": 2,
   "metadata": {},
   "outputs": [],
   "source": [
    "plain_results = {\n",
    "    \"agent_persona\" : None,\n",
    "    \"partner_persona\": None,\n",
    "    \"agent_resp\": [random.choice([True, False]) for _ in range(50)]\n",
    "}"
   ]
  },
  {
   "cell_type": "code",
   "execution_count": null,
   "metadata": {},
   "outputs": [],
   "source": []
  }
 ],
 "metadata": {
  "kernelspec": {
   "display_name": "venv",
   "language": "python",
   "name": "python3"
  },
  "language_info": {
   "codemirror_mode": {
    "name": "ipython",
    "version": 3
   },
   "file_extension": ".py",
   "mimetype": "text/x-python",
   "name": "python",
   "nbconvert_exporter": "python",
   "pygments_lexer": "ipython3",
   "version": "3.13.1"
  }
 },
 "nbformat": 4,
 "nbformat_minor": 2
}
